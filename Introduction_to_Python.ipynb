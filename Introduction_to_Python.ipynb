{
 "cells": [
  {
   "cell_type": "code",
   "execution_count": null,
   "metadata": {},
   "outputs": [],
   "source": [
    "Administrative checkpoints:\n",
    "    Welcome to your first Jupyter Notebook\n",
    "    I will be uploading these class notebooks in the LMS"
   ]
  },
  {
   "cell_type": "code",
   "execution_count": null,
   "metadata": {},
   "outputs": [],
   "source": [
    "# Edit, command, ?, commenting shortcut, DD, A, B in jupyter"
   ]
  },
  {
   "cell_type": "markdown",
   "metadata": {},
   "source": [
    "# Literal constants\n",
    "'''\n",
    "Any number or character or set of characters'\n",
    "A literal is a value that is expressed as itself. For example, the number 25 or the string \"Hello World\" in the below cell\n",
    "are both literals\n",
    "'''"
   ]
  },
  {
   "cell_type": "code",
   "execution_count": null,
   "metadata": {},
   "outputs": [],
   "source": [
    "25"
   ]
  },
  {
   "cell_type": "code",
   "execution_count": null,
   "metadata": {},
   "outputs": [],
   "source": [
    "'Hello world'"
   ]
  },
  {
   "cell_type": "code",
   "execution_count": null,
   "metadata": {},
   "outputs": [],
   "source": [
    "# How come a strange name like Python? Is it reffering to the reptile?"
   ]
  },
  {
   "cell_type": "code",
   "execution_count": null,
   "metadata": {},
   "outputs": [],
   "source": [
    "#  NUMERIC\n",
    "\n",
    "# bin(11)\n",
    "# oct?\n",
    "# bin?\n",
    "# hex(11)"
   ]
  },
  {
   "cell_type": "code",
   "execution_count": null,
   "metadata": {},
   "outputs": [],
   "source": [
    "# A=complex(20, 10)\n",
    "# print(A)"
   ]
  },
  {
   "cell_type": "code",
   "execution_count": null,
   "metadata": {},
   "outputs": [],
   "source": [
    "a='Hello world'"
   ]
  },
  {
   "cell_type": "code",
   "execution_count": null,
   "metadata": {},
   "outputs": [],
   "source": [
    "print(type(True))"
   ]
  },
  {
   "cell_type": "code",
   "execution_count": null,
   "metadata": {},
   "outputs": [],
   "source": [
    "a=24.5\n",
    "type(a)"
   ]
  },
  {
   "cell_type": "code",
   "execution_count": null,
   "metadata": {},
   "outputs": [],
   "source": [
    "# STRINGS\n",
    "A, B= 'Welcome', ' to the Python class'\n",
    "print(A+B)"
   ]
  },
  {
   "cell_type": "code",
   "execution_count": 3,
   "metadata": {},
   "outputs": [],
   "source": [
    "# Standard Data types\n",
    "T=(2,3,5,5.6,'Apoorv', 11)\n",
    "L=[5,6,7.9,8, 'Vishnoi']\n",
    "S={2,3,5,6,'Delhi'}\n",
    "D={'Apoorv': [33, 45, 67], 'Vivek': 25}"
   ]
  },
  {
   "cell_type": "code",
   "execution_count": 4,
   "metadata": {},
   "outputs": [
    {
     "name": "stdout",
     "output_type": "stream",
     "text": [
      "(2, 4, 5)\n"
     ]
    }
   ],
   "source": [
    "T1=(2,4,5,6,7)\n",
    "type(T1)\n",
    "print(T1[:3])\n",
    "# Indexing in Python always starts from ZERO"
   ]
  },
  {
   "cell_type": "code",
   "execution_count": 5,
   "metadata": {},
   "outputs": [
    {
     "data": {
      "text/plain": [
       "4"
      ]
     },
     "execution_count": 5,
     "metadata": {},
     "output_type": "execute_result"
    }
   ],
   "source": [
    "# TUPLES- Hold data in order, can be Indexed, Immutable, but memory efficient  \n",
    "T1=(2,4,5,6,7)\n",
    "a,b=T1[:2]\n",
    "b"
   ]
  },
  {
   "cell_type": "code",
   "execution_count": 6,
   "metadata": {},
   "outputs": [
    {
     "data": {
      "text/plain": [
       "((2, 5), (3, 6), (5, 7.9), (5.6, 8), ('Apoorv', 'Vishnoi'))"
      ]
     },
     "execution_count": 6,
     "metadata": {},
     "output_type": "execute_result"
    }
   ],
   "source": [
    "tuple(zip(T,L))"
   ]
  },
  {
   "cell_type": "markdown",
   "metadata": {},
   "source": [
    "\"Beware of the comma\""
   ]
  },
  {
   "cell_type": "code",
   "execution_count": null,
   "metadata": {},
   "outputs": [],
   "source": [
    "# 10,"
   ]
  },
  {
   "cell_type": "code",
   "execution_count": null,
   "metadata": {},
   "outputs": [],
   "source": [
    "# LISTS-Hold data in order it was added, Mutable\n",
    "L=[5,6,7.9,8, 'Vishnoi']\n",
    "print(L)\n",
    "print(L[2])\n",
    "L+['29']"
   ]
  },
  {
   "cell_type": "code",
   "execution_count": null,
   "metadata": {},
   "outputs": [],
   "source": [
    "set(L)"
   ]
  },
  {
   "cell_type": "code",
   "execution_count": null,
   "metadata": {},
   "outputs": [],
   "source": [
    "# SETS- Unique, Unordered,  Mutable, Python's implementation of Set Theory from Mathematics\n",
    "# s1={2,2,3,3,4,5}"
   ]
  },
  {
   "cell_type": "code",
   "execution_count": null,
   "metadata": {},
   "outputs": [],
   "source": [
    "# Sets can created from a tuples and lists\n",
    "# s=set(L)"
   ]
  },
  {
   "cell_type": "code",
   "execution_count": null,
   "metadata": {},
   "outputs": [],
   "source": [
    "# s.add(42)  # to add single uniqueitem, s.update([]) to add multiple unique items, s.discard(2), s.pop() removes a random item\n",
    "# print(s)"
   ]
  },
  {
   "cell_type": "code",
   "execution_count": null,
   "metadata": {},
   "outputs": [],
   "source": [
    "# e=set(T)\n",
    "# print(e)"
   ]
  },
  {
   "cell_type": "code",
   "execution_count": null,
   "metadata": {},
   "outputs": [],
   "source": [
    "# print(s)"
   ]
  },
  {
   "cell_type": "code",
   "execution_count": null,
   "metadata": {},
   "outputs": [],
   "source": [
    "# t={2,2,3,3,3}\n",
    "# s.intersection(e)\n",
    "# s.union(e)\n",
    "s.difference(e)"
   ]
  },
  {
   "cell_type": "code",
   "execution_count": null,
   "metadata": {},
   "outputs": [],
   "source": [
    "e.difference(s)"
   ]
  },
  {
   "cell_type": "code",
   "execution_count": null,
   "metadata": {},
   "outputs": [],
   "source": [
    "# DICTIONARY- Mutable, Key Value pair, Keys should be unique, Dictionaries are indexed by keys\n",
    "a={'vijay': 'jupyter', 'Karnakar':'jupyter'}\n",
    "a[ 'Karnakar']"
   ]
  },
  {
   "cell_type": "code",
   "execution_count": null,
   "metadata": {},
   "outputs": [],
   "source": [
    "a,b=5,11\n",
    "b**a\n",
    "a=a+b\n",
    "print(a)\n",
    "a+=b\n",
    "print(a)"
   ]
  },
  {
   "cell_type": "code",
   "execution_count": null,
   "metadata": {},
   "outputs": [],
   "source": [
    "T1"
   ]
  },
  {
   "cell_type": "markdown",
   "metadata": {},
   "source": [
    "IF ELSE CONDITIONS"
   ]
  },
  {
   "cell_type": "code",
   "execution_count": null,
   "metadata": {},
   "outputs": [],
   "source": [
    "if 8>9:\n",
    "    print(T1)\n",
    "elif 6>7:\n",
    "    print(T1[0])\n",
    "else:\n",
    "    print('no condition above is True')"
   ]
  },
  {
   "cell_type": "code",
   "execution_count": null,
   "metadata": {},
   "outputs": [],
   "source": [
    "x=24\n",
    "if x%2==0:\n",
    "    print('x is even')\n",
    "elif x%3==0:\n",
    "    print('x is divisible by 3')\n",
    "else:\n",
    "    print('x is odd')"
   ]
  },
  {
   "cell_type": "markdown",
   "metadata": {},
   "source": [
    "LOOPS"
   ]
  },
  {
   "cell_type": "code",
   "execution_count": null,
   "metadata": {},
   "outputs": [],
   "source": [
    "x=10\n",
    "while x<20:\n",
    "    x=x+1\n",
    "    if x==15:\n",
    "        continue\n",
    "    if x==18:\n",
    "        break\n",
    "    print(x)\n",
    "    "
   ]
  },
  {
   "cell_type": "code",
   "execution_count": null,
   "metadata": {},
   "outputs": [],
   "source": [
    "L=[2,3,4,5,6]\n",
    "for x in T:\n",
    "    print(10)"
   ]
  },
  {
   "cell_type": "code",
   "execution_count": null,
   "metadata": {},
   "outputs": [],
   "source": [
    "x=1\n",
    "while x<20:\n",
    "    x+=1 \n",
    "    if x==4 or x==14:\n",
    "        continue\n",
    "    print(x)"
   ]
  },
  {
   "cell_type": "code",
   "execution_count": null,
   "metadata": {},
   "outputs": [],
   "source": [
    "x=1\n",
    "while x<30:\n",
    "    x+=1 \n",
    "    if x==4 or x==14:\n",
    "        continue\n",
    "    if x ==20:\n",
    "        break\n",
    "    print(x)    "
   ]
  },
  {
   "cell_type": "markdown",
   "metadata": {},
   "source": [
    "# Is Python a scripting language? \n",
    "'Yes'\n",
    "'''\n",
    "A scripting language usually doesn’t need to be compiled to run as you write some meaningful code.Microsoft excel may be built\n",
    "using C++ language but it exposes a scripting language called Visual Basic for Applications, for users to define their custom \n",
    "functionality. Similarly web browsers may be built with C++/Java language but they expose a scripting language called javascript. \n",
    "A scripting language generally sits behind some programming language. Scripting languages generally have less access to the \n",
    "computer’s native abilities since they only run on a subset of the programming language. Scripting languages may have less \n",
    "access and are slower compared to programming languages, but they can be very powerful programming tools.\n",
    "'''"
   ]
  },
  {
   "cell_type": "code",
   "execution_count": null,
   "metadata": {},
   "outputs": [],
   "source": []
  }
 ],
 "metadata": {
  "kernelspec": {
   "display_name": "Python 3",
   "language": "python",
   "name": "python3"
  },
  "language_info": {
   "codemirror_mode": {
    "name": "ipython",
    "version": 3
   },
   "file_extension": ".py",
   "mimetype": "text/x-python",
   "name": "python",
   "nbconvert_exporter": "python",
   "pygments_lexer": "ipython3",
   "version": "3.5.6"
  }
 },
 "nbformat": 4,
 "nbformat_minor": 2
}
