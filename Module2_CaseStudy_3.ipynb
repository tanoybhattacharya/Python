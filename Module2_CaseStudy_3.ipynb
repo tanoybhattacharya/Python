{
 "cells": [
  {
   "cell_type": "markdown",
   "metadata": {},
   "source": [
    "1.Read the input from command line –Reference ID\n",
    "2.Check for validity –it should be 12 digits and allows on number andalphabet\n",
    "3.Encrypt the Reference ID and print it for reference"
   ]
  },
  {
   "cell_type": "code",
   "execution_count": 1,
   "metadata": {},
   "outputs": [
    {
     "name": "stdout",
     "output_type": "stream",
     "text": [
      "Enter a ReferenceID:cvbhjk234cvf\n",
      "Valid Reference ID\n",
      "b'gAAAAABcmV9XBjkNQ42b7ySfDo708-e4fPKuolIVclM-Fc3lZRe5rUOtBtMkA_b43xk-BrmpzzwfdSPKrLOHQK-iycoCTuKmAg=='\n",
      "b'cvbhjk234cvf'\n"
     ]
    }
   ],
   "source": [
    "from cryptography.fernet import Fernet\n",
    "import re\n",
    "p = input(\"Enter a ReferenceID:\")\n",
    "cipher_text = plain_text = \"\"\n",
    "nf = open(\"KeyFile.txt\",\"wb+\")\n",
    "key = Fernet.generate_key()\n",
    "cipher_suite = Fernet(key)\n",
    "\n",
    "x = True\n",
    "while x:\n",
    "    if len(p) != 12:\n",
    "        break\n",
    "    elif not re.search(\"[a-z]\",p):\n",
    "        break\n",
    "    elif not re.search(\"[0-9]\",p):\n",
    "        break\n",
    "    else:\n",
    "        print(\"Valid Reference ID\")\n",
    "        cipher_text = cipher_suite.encrypt(p.encode())\n",
    "        nf.write(cipher_text)\n",
    "        nf.close()\n",
    "        print(cipher_text)\n",
    "        x= False\n",
    "if x:\n",
    "    print(\"Invalid Password\")\n",
    "else:\n",
    "    rf = open(\"KeyFile.txt\",\"rb\")\n",
    "    print(cipher_suite.decrypt(rf.read()))\n",
    "    rf.close()\n",
    "    \n",
    "\n"
   ]
  },
  {
   "cell_type": "code",
   "execution_count": null,
   "metadata": {},
   "outputs": [],
   "source": []
  }
 ],
 "metadata": {
  "kernelspec": {
   "display_name": "Python 3",
   "language": "python",
   "name": "python3"
  },
  "language_info": {
   "codemirror_mode": {
    "name": "ipython",
    "version": 3
   },
   "file_extension": ".py",
   "mimetype": "text/x-python",
   "name": "python",
   "nbconvert_exporter": "python",
   "pygments_lexer": "ipython3",
   "version": "3.6.5"
  }
 },
 "nbformat": 4,
 "nbformat_minor": 2
}
