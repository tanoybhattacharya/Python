{
 "cells": [
  {
   "cell_type": "code",
   "execution_count": null,
   "metadata": {},
   "outputs": [],
   "source": [
    "import pandas as pd\n",
    "import numpy as np\n",
    "import matplotlib.pyplot as plt\n",
    "from sklearn.model_selection import train_test_split\n",
    "from sklearn.preprocessing import StandardScaler"
   ]
  },
  {
   "cell_type": "code",
   "execution_count": null,
   "metadata": {},
   "outputs": [],
   "source": [
    "wine=pd.read_csv('wine.csv')"
   ]
  },
  {
   "cell_type": "code",
   "execution_count": null,
   "metadata": {},
   "outputs": [],
   "source": [
    "wine.head()"
   ]
  },
  {
   "cell_type": "code",
   "execution_count": null,
   "metadata": {},
   "outputs": [],
   "source": [
    "wine.class_name.unique()"
   ]
  },
  {
   "cell_type": "code",
   "execution_count": null,
   "metadata": {},
   "outputs": [],
   "source": [
    "X=wine.drop(['class_label', 'class_name'], axis=1)\n",
    "y=wine.class_label\n",
    "X_train, X_test, y_train, y_test=train_test_split(X,y, test_size=0.3, random_state=21, stratify=y)"
   ]
  },
  {
   "cell_type": "code",
   "execution_count": null,
   "metadata": {},
   "outputs": [],
   "source": [
    "X_train.head()"
   ]
  },
  {
   "cell_type": "code",
   "execution_count": null,
   "metadata": {},
   "outputs": [],
   "source": [
    "# Plotting different Wine Classes\n",
    "plt.scatter(X_train.iloc[:, 0], X_train.iloc[:, 6], c=y_train)\n",
    "plt.grid(True)\n",
    "plt.show()"
   ]
  },
  {
   "cell_type": "markdown",
   "metadata": {},
   "source": []
  },
  {
   "cell_type": "markdown",
   "metadata": {},
   "source": [
    "##  Naive Bayes\n",
    "### It is the most straightforward and fast classification algorithm\n",
    "* Statistical classification technique based on Bayes Theorem\n",
    "* Naive Bayes classifiers have high accuracy and speed on large datasets\n",
    "* Naive Bayes classifier assumes that the effect of a particular feature in a class is independent of other features.That is, the presence of a particular feature in a class is unrelated to the presence of any other feature. That's why it is called Naive\n",
    "\n",
    "* It performs well in case of discrete response variable compared to the continuous variable.\n",
    "* If there is no training sample of a particular class, this causes zero posterior probability\n",
    "* It perform well in case of categorical input variables compared to numerical variable(s). \n",
    "* For numerical variable, normal distribution is assumed (bell curve, which is a strong assumption)"
   ]
  },
  {
   "cell_type": "markdown",
   "metadata": {},
   "source": [
    "__P(c|x)= P(x|c)*P(c) / P(x)__"
   ]
  },
  {
   "cell_type": "code",
   "execution_count": null,
   "metadata": {},
   "outputs": [],
   "source": [
    "(2/9)*(9/14)/(5/14)"
   ]
  },
  {
   "cell_type": "code",
   "execution_count": null,
   "metadata": {},
   "outputs": [],
   "source": [
    "from sklearn.naive_bayes import GaussianNB\n",
    "from sklearn.linear_model import LogisticRegression\n",
    "from sklearn.tree import DecisionTreeClassifier\n",
    "from sklearn.ensemble import RandomForestClassifier"
   ]
  },
  {
   "cell_type": "code",
   "execution_count": null,
   "metadata": {},
   "outputs": [],
   "source": [
    "nb=GaussianNB()\n",
    "nb.fit(X_train, y_train)\n",
    "nb.score(X_test, y_test)"
   ]
  },
  {
   "cell_type": "markdown",
   "metadata": {},
   "source": [
    "__Things you can try:__\n",
    "* What would be accuracy if we do the PCA?\n",
    "* How many PCA components give the best accuracy"
   ]
  },
  {
   "cell_type": "code",
   "execution_count": null,
   "metadata": {},
   "outputs": [],
   "source": [
    "logreg=LogisticRegression()\n",
    "logreg.fit(X_train, y_train).score(X_test, y_test)"
   ]
  },
  {
   "cell_type": "code",
   "execution_count": null,
   "metadata": {},
   "outputs": [],
   "source": [
    "dt=DecisionTreeClassifier()\n",
    "dt.fit(X_train, y_train).score(X_test, y_test)"
   ]
  },
  {
   "cell_type": "markdown",
   "metadata": {},
   "source": [
    "__Naive Bayes won't be great in all the cases__"
   ]
  },
  {
   "cell_type": "code",
   "execution_count": null,
   "metadata": {},
   "outputs": [],
   "source": [
    "ti=pd.read_csv('titanic_train.csv')\n",
    "ti=ti.drop(['Name', 'Ticket', 'Unnamed: 0', 'PassengerId'], axis=1)\n",
    "X=ti.drop('Survived', axis=1)\n",
    "y=ti.Survived\n",
    "ti.Cabin=ti.Cabin.str[0]\n",
    "X.Embarked=X.Embarked.fillna(X.Embarked.mean())\n",
    "X.Child=X.Child.fillna(-1)\n",
    "X.Cabin=X.Cabin.fillna('Z')\n",
    "X.Cabin=pd.Categorical(X.Cabin)\n",
    "X.Cabin=pd.Categorical(X.Cabin)\n",
    "X.Pclass=pd.Categorical(X.Pclass)\n",
    "X.Sex=pd.Categorical(X.Sex)\n",
    "X.Embarked=pd.Categorical(X.Embarked)\n",
    "X.Child=pd.Categorical(X.Child)\n",
    "X=pd.get_dummies(X)\n",
    "X_train, X_test, y_train, y_test=train_test_split(X, y, test_size=0.3, random_state=29, stratify=y)"
   ]
  },
  {
   "cell_type": "code",
   "execution_count": null,
   "metadata": {},
   "outputs": [],
   "source": [
    "nb=GaussianNB()\n",
    "nb.fit(X_train, y_train).score(X_test, y_test)"
   ]
  },
  {
   "cell_type": "code",
   "execution_count": null,
   "metadata": {},
   "outputs": [],
   "source": [
    "logreg=LogisticRegression()\n",
    "logreg.fit(X_train, y_train).score(X_test, y_test)"
   ]
  },
  {
   "cell_type": "code",
   "execution_count": null,
   "metadata": {},
   "outputs": [],
   "source": [
    "dt=DecisionTreeClassifier()\n",
    "dt.fit(X_train, y_train).score(X_test, y_test)"
   ]
  },
  {
   "cell_type": "markdown",
   "metadata": {},
   "source": [
    "### Metrics to take care of Class Imbalance: "
   ]
  },
  {
   "cell_type": "code",
   "execution_count": null,
   "metadata": {},
   "outputs": [],
   "source": [
    "from sklearn.metrics import confusion_matrix\n",
    "from sklearn.metrics import classification_report"
   ]
  },
  {
   "cell_type": "code",
   "execution_count": null,
   "metadata": {},
   "outputs": [],
   "source": [
    "cm = confusion_matrix(y_test, nb.predict(X_test))\n",
    "cm"
   ]
  },
  {
   "cell_type": "code",
   "execution_count": null,
   "metadata": {},
   "outputs": [],
   "source": [
    "y_test.value_counts()"
   ]
  },
  {
   "cell_type": "markdown",
   "metadata": {},
   "source": [
    "__Confusion Matrix__"
   ]
  },
  {
   "cell_type": "markdown",
   "metadata": {},
   "source": [
    "<img src=\"Confusion Matrix.PNG\" width=\"450\" align='left'>"
   ]
  },
  {
   "cell_type": "code",
   "execution_count": null,
   "metadata": {},
   "outputs": [],
   "source": [
    "cr = classification_report(y_test, nb.predict(X_test))\n",
    "print(cr)"
   ]
  },
  {
   "cell_type": "code",
   "execution_count": null,
   "metadata": {},
   "outputs": [],
   "source": [
    "162/(162+90)"
   ]
  },
  {
   "cell_type": "markdown",
   "metadata": {},
   "source": [
    "### __Accuracy = ( tp + tn) /(tp + tn + fp + fn)__\n",
    "\n",
    "### __Precision = tp / (tp + fp) or tn /(tn + fn)__\n",
    "\n",
    "### __Recall/ hit rate = tp / (tp + fn)  or tn /(tn + fp)__\n",
    "\n",
    "### __F1 score /Harmonic mean = 2*Precision * Recall / (Precision + Recall)__\n"
   ]
  },
  {
   "cell_type": "code",
   "execution_count": null,
   "metadata": {},
   "outputs": [],
   "source": []
  },
  {
   "cell_type": "markdown",
   "metadata": {},
   "source": [
    "## Support Vector Machine\n",
    "\n",
    "#### Only support vectors affect fit"
   ]
  },
  {
   "cell_type": "code",
   "execution_count": null,
   "metadata": {},
   "outputs": [],
   "source": [
    "from sklearn.svm import SVC\n",
    "svm = SVC(kernel='linear')\n",
    "svm.fit(X_train, y_train).score(X_test, y_test)"
   ]
  },
  {
   "cell_type": "markdown",
   "metadata": {},
   "source": [
    "#### Transformations through kernels"
   ]
  },
  {
   "cell_type": "code",
   "execution_count": null,
   "metadata": {},
   "outputs": [],
   "source": [
    "svm = SVC(kernel='rbf', gamma=1)\n",
    "svm.fit(X_train, y_train).score(X_test, y_test)"
   ]
  },
  {
   "cell_type": "markdown",
   "metadata": {},
   "source": [
    "__How do we know which combination of Hyperparameters is right for us ?__"
   ]
  },
  {
   "cell_type": "markdown",
   "metadata": {},
   "source": [
    "## K Nearest Neighbours"
   ]
  },
  {
   "cell_type": "markdown",
   "metadata": {},
   "source": [
    "<img src=\"KNN.png\" width=\"450\" align='left'>"
   ]
  },
  {
   "cell_type": "code",
   "execution_count": null,
   "metadata": {},
   "outputs": [],
   "source": [
    "from sklearn.neighbors import KNeighborsClassifier\n",
    "knn = KNeighborsClassifier(3)\n",
    "knn.fit(X_train,  y_train).score(X_test, y_test)"
   ]
  },
  {
   "cell_type": "markdown",
   "metadata": {},
   "source": [
    "## Hyper Parameter Tuning"
   ]
  },
  {
   "cell_type": "markdown",
   "metadata": {},
   "source": [
    "### __Cross Validation : A better measure for splitting data into train and test__\n",
    "* Takes more computation time"
   ]
  },
  {
   "cell_type": "markdown",
   "metadata": {},
   "source": [
    "__Problems with Train Test Split__"
   ]
  },
  {
   "cell_type": "markdown",
   "metadata": {},
   "source": [
    "__Testing Accuracy with different splits and random_states:__"
   ]
  },
  {
   "cell_type": "code",
   "execution_count": null,
   "metadata": {},
   "outputs": [],
   "source": [
    "split_list = [0.1, 0.2, 0.3, 0.4, 0.5]\n",
    "Accuracy_list=[]\n",
    "\n",
    "for split in split_list:\n",
    "    X_train, X_test, y_train, y_test=train_test_split(X,y, test_size= split, random_state=21, stratify=y)\n",
    "    knn=KNeighborsClassifier(10)\n",
    "    knn.fit(X_train,  y_train)\n",
    "    Accuracy_list.append(knn.score(X_test,y_test))\n",
    "    \n",
    "plt.figure(figsize=(10,3))\n",
    "plt.plot(split_list, Accuracy_list)\n",
    "plt.grid(True)\n",
    "plt.show()"
   ]
  },
  {
   "cell_type": "code",
   "execution_count": null,
   "metadata": {},
   "outputs": [],
   "source": [
    "random_list = [1, 2, 3, 4, 5 ]\n",
    "Accuracy_list=[]\n",
    "\n",
    "for random in random_list:\n",
    "    X_train, X_test, y_train, y_test=train_test_split(X,y, test_size= 0.4, random_state = random, stratify=y)\n",
    "    knn=KNeighborsClassifier(10)\n",
    "    knn.fit(X_train,  y_train)\n",
    "    Accuracy_list.append(knn.score(X_test,y_test))\n",
    "    \n",
    "plt.figure(figsize=(10,3))\n",
    "plt.plot(random_list, Accuracy_list)\n",
    "plt.grid(True)\n",
    "plt.show()"
   ]
  },
  {
   "cell_type": "markdown",
   "metadata": {},
   "source": [
    "__5 Fold Cross Validation__"
   ]
  },
  {
   "cell_type": "markdown",
   "metadata": {},
   "source": [
    "<img src=\"Cross_Validation.PNG\" width=\"250\" align='left'>"
   ]
  },
  {
   "cell_type": "code",
   "execution_count": null,
   "metadata": {},
   "outputs": [],
   "source": [
    "from sklearn.model_selection import cross_val_score\n",
    "scores=cross_val_score(knn, X, y, cv=5)\n",
    "scores"
   ]
  },
  {
   "cell_type": "code",
   "execution_count": null,
   "metadata": {},
   "outputs": [],
   "source": [
    "exp_score=np.mean(scores)\n",
    "exp_score"
   ]
  },
  {
   "cell_type": "code",
   "execution_count": null,
   "metadata": {},
   "outputs": [],
   "source": [
    "exp_dev=np.std(scores)\n",
    "exp_dev"
   ]
  },
  {
   "cell_type": "markdown",
   "metadata": {},
   "source": [
    "__Using Cross Validation for Hyper Parameter Tuning__"
   ]
  },
  {
   "cell_type": "code",
   "execution_count": null,
   "metadata": {},
   "outputs": [],
   "source": [
    "from sklearn.model_selection import GridSearchCV\n",
    "from sklearn.model_selection import RandomizedSearchCV"
   ]
  },
  {
   "cell_type": "code",
   "execution_count": null,
   "metadata": {},
   "outputs": [],
   "source": [
    "svm = SVC(kernel='rbf')\n",
    "# Radial Basis Function\n",
    "parameters = {'gamma':[0.001, 0.01, 0.1, 10, 100]}"
   ]
  },
  {
   "cell_type": "code",
   "execution_count": null,
   "metadata": {},
   "outputs": [],
   "source": [
    "%%time\n",
    "searcher = GridSearchCV(svm, parameters, cv=3)\n",
    "searcher.fit(X,y)\n",
    "# Report the best parameters\n",
    "print('Best Parameter: ', searcher.best_params_)\n",
    "print('Best Score: ', searcher.best_score_)"
   ]
  },
  {
   "cell_type": "code",
   "execution_count": null,
   "metadata": {},
   "outputs": [],
   "source": [
    "%%time\n",
    "svm = SVC()\n",
    "parameters = {'gamma':[0.001, 0.01, 0.1, 10, 100], 'C':[0.001, 0.01, 0.1, 10, 100] }\n",
    "searcher = RandomizedSearchCV(svm, parameters, cv=3)\n",
    "searcher.fit(X,y)\n",
    "# Report the best parameters\n",
    "print('Best Parameter: ', searcher.best_params_)\n",
    "print('Best Score: ', searcher.best_score_)"
   ]
  },
  {
   "cell_type": "code",
   "execution_count": null,
   "metadata": {},
   "outputs": [],
   "source": [
    "%%time\n",
    "svm = SVC()\n",
    "parameters = {'gamma':[0.001, 0.01, 0.1, 10, 100], 'C':[0.001, 0.01, 0.1, 10, 100] }\n",
    "searcher = GridSearchCV(svm, parameters, cv=3)\n",
    "searcher.fit(X,y)\n",
    "# Report the best parameters\n",
    "print('Best Parameter: ', searcher.best_params_)\n",
    "print('Best Score: ', searcher.best_score_)"
   ]
  },
  {
   "cell_type": "markdown",
   "metadata": {},
   "source": [
    "__Try this at home__"
   ]
  },
  {
   "cell_type": "code",
   "execution_count": null,
   "metadata": {},
   "outputs": [],
   "source": [
    "%%time\n",
    "svm = SVC()\n",
    "parameters = {'gamma':[0.001, 0.01, 0.1, 10, 100], 'kernel':['rbf', 'poly', 'sigmoid'] }\n",
    "searcher = RandomizedSearchCV(svm, parameters, cv=3)\n",
    "searcher.fit(X,y)\n",
    "# Report the best parameters\n",
    "print('Best Parameter: ', searcher.best_params_)\n",
    "print('Best Score: ', searcher.best_score_)"
   ]
  },
  {
   "cell_type": "markdown",
   "metadata": {},
   "source": [
    "---"
   ]
  },
  {
   "cell_type": "markdown",
   "metadata": {},
   "source": [
    "# Classification Models: which one to choose?\n",
    "\n",
    "### Depends on the Situation:\n",
    "   * Accuracy\n",
    "   * Computational time - time availability\n",
    "   * Gravity of the problem being solved\n",
    "   * Understanding of the 'black box'\n",
    "    \n",
    "## My general observations:\n",
    "\n",
    "### Linearly seperable data:\n",
    "   * Logistic: Binary \n",
    "   * SVM: Multiclass\n",
    "   * Naive: Speed is Critical\n",
    "    \n",
    "### Non-linearly seperable data:\n",
    "   * Decision trees / Random Forest: Suitable for Large Datasets\n",
    "   * SVM with kernels : \n",
    "        * Faster than Logistic kernels. \n",
    "        * Suitable for small simpler datasets. \n",
    "        * Slower than Decision trees for large datasets\n",
    "   * Naive Bayes: Speed is Critical"
   ]
  },
  {
   "cell_type": "code",
   "execution_count": null,
   "metadata": {},
   "outputs": [],
   "source": []
  }
 ],
 "metadata": {
  "kernelspec": {
   "display_name": "Python 3",
   "language": "python",
   "name": "python3"
  },
  "language_info": {
   "codemirror_mode": {
    "name": "ipython",
    "version": 3
   },
   "file_extension": ".py",
   "mimetype": "text/x-python",
   "name": "python",
   "nbconvert_exporter": "python",
   "pygments_lexer": "ipython3",
   "version": "3.6.7"
  }
 },
 "nbformat": 4,
 "nbformat_minor": 2
}
