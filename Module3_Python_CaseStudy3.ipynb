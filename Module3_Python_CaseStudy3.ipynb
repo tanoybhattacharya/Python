{
 "cells": [
  {
   "cell_type": "markdown",
   "metadata": {},
   "source": [
    "GoodsKart—largest ecommerce company of Indonesia with revenue of $2B+ acquired another ecommerce company FairDeal.  FairDeal has its own IT system to maintain records of customer, sales etc.For ease of maintenance and cost savings GoodsKart is integrating customer databases of both the organizations hence customer data of FairDeal has to be converted in GoodsKartCustomer Format."
   ]
  },
  {
   "cell_type": "code",
   "execution_count": 1,
   "metadata": {},
   "outputs": [],
   "source": [
    "import pandas as pd"
   ]
  },
  {
   "cell_type": "code",
   "execution_count": null,
   "metadata": {},
   "outputs": [],
   "source": [
    "df = pd.read_csv('FairDealCustomerData.csv',header=None)\n",
    "df[1] = df[1]+df[0]\n",
    "del df[0]\n",
    "#str.strip() is similar to trim\n",
    "fairCustList = list(df[df[2]==0][1].str.strip())\n",
    "blockcustlist= list(df[df[2]==1][1].str.strip())\n",
    "fairCustList\n",
    "\n",
    "class customer:\n",
    "    customers = []\n",
    "    def __init__(self,custlst):\n",
    "        self.customers = custlst\n",
    "    def __del__(self):\n",
    "        self.customers =[]\n",
    "    def IsFair(self,name):\n",
    "        if name in self.customers:\n",
    "            print('{0} is a fair customer'.format(name))\n",
    "        else:\n",
    "            raise Exception\n",
    "\n",
    "\n",
    "try:\n",
    "    fr = customer(fairCustList)\n",
    "    fr.IsFair(input('Enter Customer Name for an Order:'))\n",
    "#     print(fr.customers)\n",
    "\n",
    "except:\n",
    "    print('Sorry!!Input Customer is a blacklisted.')\n"
   ]
  }
 ],
 "metadata": {
  "kernelspec": {
   "display_name": "Python 3",
   "language": "python",
   "name": "python3"
  },
  "language_info": {
   "codemirror_mode": {
    "name": "ipython",
    "version": 3
   },
   "file_extension": ".py",
   "mimetype": "text/x-python",
   "name": "python",
   "nbconvert_exporter": "python",
   "pygments_lexer": "ipython3",
   "version": "3.6.5"
  }
 },
 "nbformat": 4,
 "nbformat_minor": 2
}
