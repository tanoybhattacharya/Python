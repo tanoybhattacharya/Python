{
 "cells": [
  {
   "cell_type": "markdown",
   "metadata": {},
   "source": [
    "PANDA BASIC SERIES CREATION : Series is a one-dimensional labeled array capable of holding data of any type (integer, string, float, python objects, etc.). The axis labels are collectively called index."
   ]
  },
  {
   "cell_type": "code",
   "execution_count": 37,
   "metadata": {},
   "outputs": [
    {
     "name": "stdout",
     "output_type": "stream",
     "text": [
      "Numpy Array: ['AA' 'BB' 'CC']\n",
      "Series\n",
      "0    AA\n",
      "1    BB\n",
      "2    CC\n",
      "dtype: object\n",
      "BB\n"
     ]
    }
   ],
   "source": [
    "import numpy as np\n",
    "import pandas as pd\n",
    "\n",
    "a = np.array(['AA','BB','CC'])\n",
    "print('Numpy Array:',a)\n",
    "print('Series')\n",
    "s = pd.Series(a)\n",
    "print(s)\n",
    "print(s[1])\n",
    "\n",
    "#following code will throw error beacuse Series only for one-dimensional  \n",
    "# arr = np.array([['AA','BB','CC'],['DD','EE','FF']])\n",
    "# sr = pd.Series(arr)\n",
    "# print(sr)\n"
   ]
  },
  {
   "cell_type": "markdown",
   "metadata": {},
   "source": [
    "SERIES CREATE FROM DICTIONARY "
   ]
  },
  {
   "cell_type": "code",
   "execution_count": 14,
   "metadata": {},
   "outputs": [
    {
     "name": "stdout",
     "output_type": "stream",
     "text": [
      "AA    11\n",
      "BB    22\n",
      "CC    33\n",
      "dtype: int64\n",
      "33\n"
     ]
    }
   ],
   "source": [
    "arr = {'AA':11,'BB':22,'CC':33}\n",
    "s = pd.Series(arr)\n",
    "print(s)\n",
    "print(s['CC'])"
   ]
  },
  {
   "cell_type": "code",
   "execution_count": 29,
   "metadata": {},
   "outputs": [
    {
     "name": "stdout",
     "output_type": "stream",
     "text": [
      "Math    45\n",
      "Chem    56\n",
      "Bio     78\n",
      "dtype: int64\n",
      "Math    45\n",
      "Chem    56\n",
      "Bio     78\n",
      "Beng    98\n",
      "dtype: int64\n",
      "Amit    Math    45\n",
      "Chem    56\n",
      "Bio     78\n",
      "dtype: int64\n",
      "dtype: object\n",
      "Math    12\n",
      "Chem    34\n",
      "Bio     55\n",
      "Beng    66\n",
      "dtype: int64\n"
     ]
    }
   ],
   "source": [
    "lst = ['Math','Chem','Bio']\n",
    "lst1 = ['Math','Chem','Bio','Beng']\n",
    "\n",
    "\n",
    "s1 = pd.Series((45,56,78),index=lst)\n",
    "s2 = pd.Series((45,56,78,98),index=lst1)\n",
    "print(s1) \n",
    "print(s2) \n",
    "s3 = pd.Series({'Amit':s1})\n",
    "print(s3)\n",
    "\n"
   ]
  },
  {
   "cell_type": "markdown",
   "metadata": {},
   "source": [
    "DATAFRAME: DataFrame is a 2-dimensional labeled data structure with columns of potentially different types. You can think of it like a spreadsheet or SQL table, or a dict of Series objects. It is generally the most commonly used pandas object"
   ]
  },
  {
   "cell_type": "code",
   "execution_count": 24,
   "metadata": {},
   "outputs": [
    {
     "name": "stdout",
     "output_type": "stream",
     "text": [
      "      Amit  Tanoy\n",
      "Beng   NaN     98\n",
      "Bio   78.0     78\n",
      "Chem  56.0     56\n",
      "Math  45.0     45\n"
     ]
    }
   ],
   "source": [
    "table = pd.DataFrame({'Amit':s1,'Tanoy':s2})\n",
    "print(table) # NaN means \"not a number\",any calculations you perform with NaN will also result in NaN "
   ]
  },
  {
   "cell_type": "markdown",
   "metadata": {},
   "source": [
    "ADD COLUMN IN DATAFRAME: CREATE DATAFRAME AND ADD VIA DATAFRAME INDEX"
   ]
  },
  {
   "cell_type": "code",
   "execution_count": 39,
   "metadata": {},
   "outputs": [
    {
     "name": "stdout",
     "output_type": "stream",
     "text": [
      "      Amit  Budha  Tanoy\n",
      "Beng   NaN   66.0     98\n",
      "Bio   78.0   55.0     78\n",
      "Chem  56.0   34.0     56\n",
      "Math  45.0   12.0     45\n",
      "0     23.0    NaN     89\n"
     ]
    }
   ],
   "source": [
    "lst2 = ['Math','Chem','Bio','Beng','Eng']\n",
    "table['Budha'] = pd.DataFrame([12,34,55,66,67],index=lst2)\n",
    "print(table) # Eng row not added "
   ]
  },
  {
   "cell_type": "markdown",
   "metadata": {},
   "source": [
    "ADD ROW IN DATAFRAME: CREATE DATAFRAME AND APPEND IN THAT DATAFRAME"
   ]
  },
  {
   "cell_type": "code",
   "execution_count": 40,
   "metadata": {},
   "outputs": [
    {
     "name": "stdout",
     "output_type": "stream",
     "text": [
      "   Amit  Budha  Tanoy\n",
      "0    23     45     89\n",
      "      Amit  Budha  Tanoy\n",
      "Beng   NaN   66.0     98\n",
      "Bio   78.0   55.0     78\n",
      "Chem  56.0   34.0     56\n",
      "Math  45.0   12.0     45\n",
      "0     23.0    NaN     89\n",
      "0     23.0   45.0     89\n"
     ]
    }
   ],
   "source": [
    "row = pd.DataFrame([[23,45,89]],columns=['Amit','Budha','Tanoy'])\n",
    "print(row)\n",
    "table = table.append(row)\n",
    "print(table)"
   ]
  },
  {
   "cell_type": "markdown",
   "metadata": {},
   "source": [
    "READ DATA FROM CSV AND REPLACE VALUE AND FINALLY WRITE TO CSV"
   ]
  },
  {
   "cell_type": "code",
   "execution_count": 56,
   "metadata": {},
   "outputs": [
    {
     "name": "stdout",
     "output_type": "stream",
     "text": [
      "     age            job   marital  y\n",
      "0     20        student    single  1\n",
      "1     32     management    single  1\n",
      "2     49     technician   married  1\n",
      "3     32    blue-collar   married  1\n",
      "4     33     management   married  1\n",
      "5     61         admin.   married  1\n",
      "6     45    blue-collar  divorced  1\n",
      "7     34     technician   married  1\n",
      "8     37     management   married  1\n",
      "9     27         admin.  divorced  1\n",
      "10    52       services   married  1\n",
      "11    37     management   married  1\n",
      "12    27       services    single  1\n",
      "13    21        student    single  1\n",
      "14    25        student    single  1\n",
      "15    25     technician    single  1\n",
      "16    34  self-employed    single  1\n",
      "17    52     management   married  1\n",
      "18    55         admin.   married  1\n",
      "19    28     management    single  1\n",
      "20    35     technician    single  1\n",
      "21    29    blue-collar    single  1\n",
      "22    42     management   married  1\n",
      "23    29    blue-collar    single  1\n",
      "24    24    blue-collar    single  1\n",
      "25    34         admin.   married  1\n",
      "26    50    blue-collar   married  1\n",
      "27    49   entrepreneur  divorced  1\n",
      "28    45    blue-collar  divorced  1\n",
      "29    38   entrepreneur   married  1\n",
      "..   ...            ...       ... ..\n",
      "417   62  self-employed  divorced  1\n",
      "418   39       services  divorced  1\n",
      "419   38     technician    single  1\n",
      "420   31    blue-collar   married  1\n",
      "421   33     technician    single  1\n",
      "422   36     technician    single  1\n",
      "423   32     management    single  1\n",
      "424   34      housemaid   married  1\n",
      "425   59     technician   married  1\n",
      "426   25        student   married  1\n",
      "427   53     management   married  1\n",
      "428   52     management   married  1\n",
      "429   34         admin.  divorced  1\n",
      "430   49         admin.   married  1\n",
      "431   50    blue-collar   married  1\n",
      "432   29    blue-collar    single  1\n",
      "433   41   entrepreneur   married  1\n",
      "434   45         admin.  divorced  1\n",
      "435   32    blue-collar    single  1\n",
      "436   45     management    single  1\n",
      "437   40     management   married  1\n",
      "438   49    blue-collar    single  1\n",
      "439   29     management    single  1\n",
      "440   38     management    single  1\n",
      "441   38     management   married  1\n",
      "442   26     technician    single  1\n",
      "443   60  self-employed   married  1\n",
      "444   42    blue-collar    single  1\n",
      "445   32         admin.    single  1\n",
      "446   46    blue-collar   married  1\n",
      "\n",
      "[447 rows x 4 columns]\n"
     ]
    }
   ],
   "source": [
    "table = pd.read_csv('bank-data.csv')\n",
    "table['y'].replace(['yes'],1,inplace=True) # Replace value\n",
    "table.to_csv('test.csv',sep=',', encoding='utf-8') # write to csv\n",
    "print(table)"
   ]
  },
  {
   "cell_type": "markdown",
   "metadata": {},
   "source": [
    "SLICING IN DATAFRAME AND "
   ]
  },
  {
   "cell_type": "code",
   "execution_count": 47,
   "metadata": {},
   "outputs": [
    {
     "name": "stdout",
     "output_type": "stream",
     "text": [
      "['student' 'management' 'technician' 'blue-collar' 'admin.' 'services'\n",
      " 'self-employed' 'entrepreneur' 'housemaid']\n",
      "age        226\n",
      "job        226\n",
      "marital    226\n",
      "y          226\n",
      "dtype: int64\n",
      "83\n"
     ]
    }
   ],
   "source": [
    "print(table['job'].unique())\n",
    "print(table[table['marital']=='married'].count())\n",
    "print(table['age'][table['job']=='technician'].count())"
   ]
  },
  {
   "cell_type": "code",
   "execution_count": null,
   "metadata": {},
   "outputs": [],
   "source": []
  }
 ],
 "metadata": {
  "kernelspec": {
   "display_name": "Python 3",
   "language": "python",
   "name": "python3"
  },
  "language_info": {
   "codemirror_mode": {
    "name": "ipython",
    "version": 3
   },
   "file_extension": ".py",
   "mimetype": "text/x-python",
   "name": "python",
   "nbconvert_exporter": "python",
   "pygments_lexer": "ipython3",
   "version": "3.6.5"
  }
 },
 "nbformat": 4,
 "nbformat_minor": 2
}
