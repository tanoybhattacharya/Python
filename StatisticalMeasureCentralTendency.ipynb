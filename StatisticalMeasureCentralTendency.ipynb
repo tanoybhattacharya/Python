{
 "cells": [
  {
   "cell_type": "markdown",
   "metadata": {},
   "source": [
    "ORDINAL DATA"
   ]
  },
  {
   "cell_type": "code",
   "execution_count": 2,
   "metadata": {},
   "outputs": [
    {
     "name": "stdout",
     "output_type": "stream",
     "text": [
      "Enter your percentage78\n",
      "Congratulations!! You got distinction\n"
     ]
    }
   ],
   "source": [
    "marks=int(input(\"Enter your percentage\"))\n",
    "\n",
    "if(marks<=40):\n",
    "    print(\"Fail\")\n",
    "elif((marks>40)&(marks<=50)):\n",
    "    print(\"Second Class\")\n",
    "elif((marks>50)&(marks<=60)):\n",
    "    print(\"First Class\")\n",
    "elif(marks>=60):\n",
    "    print(\"Congratulations!! You got distinction\")"
   ]
  },
  {
   "cell_type": "markdown",
   "metadata": {},
   "source": [
    "NOMINAL DATA"
   ]
  },
  {
   "cell_type": "code",
   "execution_count": 3,
   "metadata": {},
   "outputs": [
    {
     "name": "stdout",
     "output_type": "stream",
     "text": [
      "Would you like to go for shopping? if yes then type Y / y else N/nY\n",
      "Do you love talking on any topic? if yes then type Y / y else N/nY\n",
      "Welcome to girls club\n"
     ]
    }
   ],
   "source": [
    "ans1=input(\"Would you like to go for shopping? if yes then type Y / y else N/n\")\n",
    "ans2=input(\"Do you love talking on any topic? if yes then type Y / y else N/n\")\n",
    "\n",
    "if(((ans1=='Y')|(ans1=='y'))&((ans2=='Y')|(ans2=='y'))):\n",
    "    print(\"Welcome to girls club\")\n",
    "else:\n",
    "    print(\"Sorry boys, you can not join the club\")"
   ]
  },
  {
   "cell_type": "markdown",
   "metadata": {},
   "source": [
    "MEAN, MODE AND MEDIAN - MEASURE CENTRAL TENDENCY"
   ]
  },
  {
   "cell_type": "code",
   "execution_count": 43,
   "metadata": {},
   "outputs": [
    {
     "name": "stdout",
     "output_type": "stream",
     "text": [
      "[8. 4. 4. 3. 7. 0. 8. 3. 6. 5. 8. 1. 4. 4. 7. 3. 5. 3. 5. 6. 3. 7. 7. 6.\n",
      " 7. 4. 5. 3. 4. 6. 4. 4. 4. 3. 4. 5. 3. 5. 8. 6. 5. 3. 4. 8. 5. 4. 5. 9.\n",
      " 5. 6. 6. 4. 3. 4. 5. 6. 7. 7. 6. 7. 3. 8. 6. 4. 6. 5. 7. 8. 9. 2. 2. 4.\n",
      " 5. 7. 6. 1. 4. 7. 5. 7. 5. 5. 5. 6. 5. 5. 4. 6. 5. 7. 7. 5. 4. 4. 6. 5.\n",
      " 4. 5. 4. 6.]\n",
      "The meain is 5.10\n",
      "The Median is 5.00\n",
      "The modal value is 5.0 with a count of 23\n"
     ]
    },
    {
     "data": {
      "image/png": "[encoded data removed]",
      "text/plain": [
       "<Figure size 432x288 with 1 Axes>"
      ]
     },
     "metadata": {},
     "output_type": "display_data"
    }
   ],
   "source": [
    "import matplotlib\n",
    "import matplotlib.pyplot as plt\n",
    "import numpy as np\n",
    "import pandas as pd\n",
    "from statistics import mode\n",
    "from scipy import stats\n",
    "matplotlib.style.use('ggplot')\n",
    "\n",
    "np.random.seed(1)\n",
    "data = np.round(np.random.normal(5, 2, 100))\n",
    "print(data)\n",
    "plt.hist(data, bins=10,range=(1,10),edgecolor='black')\n",
    "\n",
    "means = np.mean(data)\n",
    "\n",
    "print('The meain is %.2f'%(means))\n",
    "\n",
    "median = np.median(data) \n",
    "print('The Median is %.2f'%(median))\n",
    "\n",
    "mode = stats.mode(data)\n",
    "print(\"The modal value is {} with a count of {}\".format(mode.mode[0], mode.count[0]))"
   ]
  },
  {
   "cell_type": "code",
   "execution_count": 42,
   "metadata": {},
   "outputs": [
    {
     "name": "stdout",
     "output_type": "stream",
     "text": [
      "The average height is 5.89\n",
      "The median height is 5.95\n",
      "The Standard Deviation is 0.54\n"
     ]
    },
    {
     "data": {
      "text/plain": [
       "(array([3., 6., 0., 1.]),\n",
       " array([5.1  , 5.625, 6.15 , 6.675, 7.2  ]),\n",
       " <a list of 4 Patch objects>)"
      ]
     },
     "execution_count": 42,
     "metadata": {},
     "output_type": "execute_result"
    },
    {
     "data": {
      "image/png": "[encoded data removed]",
      "text/plain": [
       "<Figure size 432x288 with 1 Axes>"
      ]
     },
     "metadata": {},
     "output_type": "display_data"
    }
   ],
   "source": [
    "heights = [5.9, 5.5, 6.1, 6.0, 7.2, 5.1, 5.3, 6.0, 5.8, 6.0]\n",
    "\n",
    "print('The average height is %.2f'%(np.mean(heights)))\n",
    "print('The median height is %.2f'%(np.median(heights)))\n",
    "print('The Standard Deviation is %.2f'%(np.std(heights)))\n",
    "\n",
    "plt.hist(heights,bins=4,edgecolor='black')"
   ]
  },
  {
   "cell_type": "code",
   "execution_count": 49,
   "metadata": {},
   "outputs": [
    {
     "name": "stdout",
     "output_type": "stream",
     "text": [
      "The average is 10.14\n",
      "The median is 7.00\n",
      "The modal value is 2 with a count of 1\n"
     ]
    }
   ],
   "source": [
    "x=[2,4,6,7,20,10,22]\n",
    "y = np.array(x)\n",
    "\n",
    "print('The average is %.2f'%(y.mean()))\n",
    "print('The median is %.2f'%(np.median(y)))\n",
    "\n",
    "mode = stats.mode(y)\n",
    "print(\"The modal value is {} with a count of {}\".format(mode.mode[0], mode.count[0]))"
   ]
  },
  {
   "cell_type": "code",
   "execution_count": 74,
   "metadata": {},
   "outputs": [
    {
     "name": "stdout",
     "output_type": "stream",
     "text": [
      "The average value is :109.45\n",
      "The median value is:116.00\n",
      "The Standard Deviation value is: 21.67\n",
      "The Minimum value is: 71\n",
      "The Maxmium value is: 136\n"
     ]
    }
   ],
   "source": [
    "df = pd.read_csv('brain_size.csv',sep=';',na_values='.')\n",
    "\n",
    "# df.describe()\n",
    "df=df[df['Gender']=='Female']['VIQ']\n",
    "\n",
    "print('The average value is :%.2f'%(np.mean(df)))\n",
    "print('The median value is:%.2f'%(np.median(df)))\n",
    "print ('The Standard Deviation value is:',round(df.std(),2))\n",
    "print ('The Minimum value is:',round(df.min(),2))\n",
    "print ('The Maxmium value is:',round(df.max(),2))"
   ]
  },
  {
   "cell_type": "markdown",
   "metadata": {},
   "source": [
    "RANGE"
   ]
  },
  {
   "cell_type": "code",
   "execution_count": 100,
   "metadata": {},
   "outputs": [
    {
     "name": "stdout",
     "output_type": "stream",
     "text": [
      "[7, 19]\n"
     ]
    }
   ],
   "source": [
    "data=[10,14,11,7,9.5,15,19]\n",
    "result = []\n",
    "\n",
    "range1 = min(data)\n",
    "range2 = max(data)\n",
    "result.append(range1)\n",
    "result.append(range2)\n",
    "print(result)"
   ]
  },
  {
   "cell_type": "markdown",
   "metadata": {},
   "source": [
    "QUARTILE AND INTER QUARTILE"
   ]
  },
  {
   "cell_type": "code",
   "execution_count": 96,
   "metadata": {},
   "outputs": [
    {
     "name": "stdout",
     "output_type": "stream",
     "text": [
      "   A  B  C   D\n",
      "0  1  3  2   4\n",
      "1  5  2  2   3\n",
      "2  3  4  7   6\n",
      "3  4  3  3  12\n",
      "4  2  4  4   7\n",
      "A    3.0\n",
      "B    3.0\n",
      "C    3.0\n",
      "D    6.0\n",
      "Name: 0.5, dtype: float64\n",
      "1.5\n"
     ]
    }
   ],
   "source": [
    "df = pd.DataFrame({\"A\":[1, 5, 3, 4, 2], \n",
    "                   \"B\":[3, 2, 4, 3, 4], \n",
    "                   \"C\":[2, 2, 7, 3, 4], \n",
    "                   \"D\":[4, 3, 6, 12, 7]}) \n",
    "print(df)\n",
    "# df.quantile([.1, .25, .5, .75,.95], axis=0)\n",
    "print(df.quantile())\n",
    "print(iqr(df))"
   ]
  },
  {
   "cell_type": "markdown",
   "metadata": {},
   "source": [
    "STANDARD DEVIATION AND VARIENCE"
   ]
  },
  {
   "cell_type": "code",
   "execution_count": 94,
   "metadata": {},
   "outputs": [
    {
     "name": "stdout",
     "output_type": "stream",
     "text": [
      "A    1.581139\n",
      "B    0.836660\n",
      "C    2.073644\n",
      "D    3.507136\n",
      "dtype: float64\n",
      "A     2.5\n",
      "B     0.7\n",
      "C     4.3\n",
      "D    12.3\n",
      "dtype: float64\n"
     ]
    }
   ],
   "source": [
    "print(df.std())\n",
    "print(df.var())"
   ]
  },
  {
   "cell_type": "code",
   "execution_count": 112,
   "metadata": {},
   "outputs": [
    {
     "name": "stdout",
     "output_type": "stream",
     "text": [
      " *\n",
      " * * *\n",
      " * * * * *\n",
      " * * * * * * *\n",
      " * * * * * * * * *\n",
      " * * * * * * * * * * *\n",
      " * * * * * * * * * * * * *\n",
      " * * * * * * * * * * * * * * *\n",
      " * * * * * * * * * * * * * * * * *\n",
      " * * * * * * * * * * * * * * * * * * *\n",
      " * * * * * * * * * * * * * * * * * * * * *\n"
     ]
    }
   ],
   "source": [
    "for i in range(1,23,2):\n",
    "    print ('*'*i)\n"
   ]
  },
  {
   "cell_type": "code",
   "execution_count": null,
   "metadata": {},
   "outputs": [],
   "source": []
  }
 ],
 "metadata": {
  "kernelspec": {
   "display_name": "Python 3",
   "language": "python",
   "name": "python3"
  },
  "language_info": {
   "codemirror_mode": {
    "name": "ipython",
    "version": 3
   },
   "file_extension": ".py",
   "mimetype": "text/x-python",
   "name": "python",
   "nbconvert_exporter": "python",
   "pygments_lexer": "ipython3",
   "version": "3.6.5"
  }
 },
 "nbformat": 4,
 "nbformat_minor": 2
}
