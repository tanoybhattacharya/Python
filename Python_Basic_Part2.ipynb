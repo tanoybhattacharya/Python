{
 "cells": [
  {
   "cell_type": "markdown",
   "metadata": {},
   "source": [
    "1.Write a program which will find factors of given number and find whether the factor is even or odd"
   ]
  },
  {
   "cell_type": "code",
   "execution_count": 4,
   "metadata": {},
   "outputs": [
    {
     "name": "stdout",
     "output_type": "stream",
     "text": [
      "Enter a number:9\n",
      "The factorial of 9 is 362880 which is even number.\n"
     ]
    }
   ],
   "source": [
    "n= num = int(input('Enter a number:'))\n",
    "fact =1\n",
    "while n>1:\n",
    "    fact*=n\n",
    "    n-=1\n",
    "if fact%2==0:\n",
    "    print('The factorial of %d is %d which is even number.'%(num,fact))\n",
    "else:\n",
    "    print('The factorial of %d is %d which is odd number.'%(num,fact))"
   ]
  },
  {
   "cell_type": "markdown",
   "metadata": {},
   "source": [
    "2. Write a code which accepts a sequence of words as input and prints the words in a sequence after sorting them alphabetically"
   ]
  },
  {
   "cell_type": "code",
   "execution_count": 7,
   "metadata": {},
   "outputs": [
    {
     "name": "stdout",
     "output_type": "stream",
     "text": [
      "Enter a series of words with comma seperator:Red,Black,Green,Blue,Red,White\n",
      "Black,Blue,Green,Red,White\n"
     ]
    }
   ],
   "source": [
    "print(','.join(sorted(list(set([word for word in input(\"Enter a series of words with comma seperator:\").split(',')])))))"
   ]
  },
  {
   "cell_type": "markdown",
   "metadata": {},
   "source": [
    "3.Write a program, whichwill find all the numbers between 1000 and 3000 (both included) such that each digit of a number is an even number. The numbers obtained should be printed in a comma separated sequence on a single line"
   ]
  },
  {
   "cell_type": "code",
   "execution_count": 14,
   "metadata": {},
   "outputs": [
    {
     "name": "stdout",
     "output_type": "stream",
     "text": [
      "[10, 12, 14, 16, 18, 20, 22, 24, 26, 28]\n"
     ]
    }
   ],
   "source": [
    "print([x for x in range(10,30) if x%2==0]) \n"
   ]
  },
  {
   "cell_type": "markdown",
   "metadata": {},
   "source": [
    "4.Write a program that accepts a sentence and calculate the number of letters and digits"
   ]
  },
  {
   "cell_type": "code",
   "execution_count": 9,
   "metadata": {},
   "outputs": [
    {
     "name": "stdout",
     "output_type": "stream",
     "text": [
      "Enter a String:Python123\n",
      "LETTER: 6\n",
      "DIGIT: 3\n"
     ]
    }
   ],
   "source": [
    "import re\n",
    "\n",
    "str = list(input(\"Enter a String:\"))\n",
    "l = d = 0\n",
    "for i in str:\n",
    "    if re.search('[A-Z]',i) or re.search('[a-z]',i):\n",
    "        l+=1 \n",
    "    elif re.search('[0-9]',i):\n",
    "        d+=1\n",
    "print('LETTER:',l)\n",
    "print('DIGIT:',d)\n"
   ]
  },
  {
   "cell_type": "markdown",
   "metadata": {},
   "source": [
    "5.Design a code which will find the given number is Palindrome number or not"
   ]
  },
  {
   "cell_type": "code",
   "execution_count": 18,
   "metadata": {},
   "outputs": [
    {
     "name": "stdout",
     "output_type": "stream",
     "text": [
      "Enter a String:test\n",
      "Not Palindrome\n"
     ]
    }
   ],
   "source": [
    "str=input('Enter a String:')\n",
    "if str == str[::-1]:\n",
    "    print('Palindrome')\n",
    "else:\n",
    "    print('Not Palindrome')"
   ]
  },
  {
   "cell_type": "code",
   "execution_count": null,
   "metadata": {},
   "outputs": [],
   "source": []
  }
 ],
 "metadata": {
  "kernelspec": {
   "display_name": "Python 3",
   "language": "python",
   "name": "python3"
  },
  "language_info": {
   "codemirror_mode": {
    "name": "ipython",
    "version": 3
   },
   "file_extension": ".py",
   "mimetype": "text/x-python",
   "name": "python",
   "nbconvert_exporter": "python",
   "pygments_lexer": "ipython3",
   "version": "3.6.5"
  }
 },
 "nbformat": 4,
 "nbformat_minor": 2
}
