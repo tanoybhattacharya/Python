{
 "cells": [
  {
   "cell_type": "markdown",
   "metadata": {},
   "source": [
    "<b>Visualization with Boken</b>"
   ]
  },
  {
   "cell_type": "code",
   "execution_count": 2,
   "metadata": {},
   "outputs": [],
   "source": [
    "from bokeh.plotting import output_file, show, figure\n",
    "import pandas as pd"
   ]
  },
  {
   "cell_type": "code",
   "execution_count": 4,
   "metadata": {},
   "outputs": [],
   "source": [
    "df = pd.DataFrame(columns=['x','y'])\n",
    "df['x']=[1,2,3,4,5]\n",
    "df['y']=[1,4,9,16,25]\n",
    "\n",
    "p = figure(plot_width=500, plot_height= 500)\n",
    "p.circle(df['x'],df['y'],size =5)\n",
    "output_file('charts.html')\n",
    "show(p)"
   ]
  },
  {
   "cell_type": "markdown",
   "metadata": {},
   "source": [
    "Import Data from external source and create visuaizaion using Boken library"
   ]
  },
  {
   "cell_type": "code",
   "execution_count": 10,
   "metadata": {},
   "outputs": [
    {
     "name": "stderr",
     "output_type": "stream",
     "text": [
      "C:\\Program Files (x86)\\Microsoft Visual Studio\\Shared\\Anaconda3_64\\lib\\site-packages\\pandas\\io\\excel.py:329: FutureWarning: The `sheetname` keyword is deprecated, use `sheet_name` instead\n",
      "  **kwds)\n"
     ]
    }
   ],
   "source": [
    "exdf = pd.read_excel('https://pythonhow.com/verlegenhuken.xlsx',sheetname=0)\n",
    "exdf['Temperature']=exdf['Temperature']/10\n",
    "exdf['Pressure']=exdf['Pressure']/10\n",
    "p = figure(plot_width=500, plot_height= 500)\n",
    "p.title.text = 'Temperature and Air Pressure'\n",
    "p.title.text_color='Red'\n",
    "p.title.text_font_style = 'bold'\n",
    "p.xaxis.axis_label = 'Temperature (c)'\n",
    "p.yaxis.axis_label = 'Air Pressure (hPa)'\n",
    "p.circle(exdf['Temperature'],exdf['Pressure'],size =0.5)\n",
    "output_file('weather.html')\n",
    "show(p)"
   ]
  }
 ],
 "metadata": {
  "kernelspec": {
   "display_name": "Python 3",
   "language": "python",
   "name": "python3"
  },
  "language_info": {
   "codemirror_mode": {
    "name": "ipython",
    "version": 3
   },
   "file_extension": ".py",
   "mimetype": "text/x-python",
   "name": "python",
   "nbconvert_exporter": "python",
   "pygments_lexer": "ipython3",
   "version": "3.6.5"
  }
 },
 "nbformat": 4,
 "nbformat_minor": 2
}
