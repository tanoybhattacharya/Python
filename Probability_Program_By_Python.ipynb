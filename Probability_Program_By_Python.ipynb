{
 "cells": [
  {
   "cell_type": "markdown",
   "metadata": {},
   "source": [
    "<b>Probability with Python"
   ]
  },
  {
   "cell_type": "markdown",
   "metadata": {},
   "source": [
    "<b>Basic Concept - Determine the probability of ace"
   ]
  },
  {
   "cell_type": "code",
   "execution_count": 3,
   "metadata": {},
   "outputs": [
    {
     "data": {
      "text/plain": [
       "0.08"
      ]
     },
     "execution_count": 3,
     "metadata": {},
     "output_type": "execute_result"
    }
   ],
   "source": [
    "# Sample Space\n",
    "cards = 52\n",
    "\n",
    "# Outcomes\n",
    "aces = 4\n",
    "\n",
    "# Divide possible outcomes by the sample set\n",
    "ace_probability = aces / cards\n",
    "\n",
    "round(ace_probability,2)\n"
   ]
  },
  {
   "cell_type": "markdown",
   "metadata": {},
   "source": [
    "<b>Determine the probability of drawing a heart"
   ]
  },
  {
   "cell_type": "code",
   "execution_count": 4,
   "metadata": {},
   "outputs": [
    {
     "data": {
      "text/plain": [
       "0.25"
      ]
     },
     "execution_count": 4,
     "metadata": {},
     "output_type": "execute_result"
    }
   ],
   "source": [
    "# Sample Space\n",
    "cards = 52\n",
    "\n",
    "#Event Outcome\n",
    "hearts = 13\n",
    "\n",
    "hearts_probability = hearts/cards\n",
    "\n",
    "round(hearts_probability,2)"
   ]
  },
  {
   "cell_type": "markdown",
   "metadata": {},
   "source": [
    "<b>Create function that returns probability percent rounded to one decimal place"
   ]
  },
  {
   "cell_type": "code",
   "execution_count": 5,
   "metadata": {},
   "outputs": [
    {
     "data": {
      "text/plain": [
       "25.0"
      ]
     },
     "execution_count": 5,
     "metadata": {},
     "output_type": "execute_result"
    }
   ],
   "source": [
    "def event_probability(event_outcome,sample_space):\n",
    "    probability = (event_outcome/sample_space) * 100\n",
    "    return round(probability,2)\n",
    "\n",
    "# Sample Space\n",
    "cards = 52\n",
    "\n",
    "#Event Outcome\n",
    "hearts = 13\n",
    "\n",
    "event_probability(hearts,cards)"
   ]
  },
  {
   "cell_type": "markdown",
   "metadata": {},
   "source": [
    "<b>Determine the probability of drawing a face card"
   ]
  },
  {
   "cell_type": "code",
   "execution_count": 6,
   "metadata": {},
   "outputs": [
    {
     "data": {
      "text/plain": [
       "23.08"
      ]
     },
     "execution_count": 6,
     "metadata": {},
     "output_type": "execute_result"
    }
   ],
   "source": [
    "#Event_Outcome\n",
    "face_card = 12\n",
    "event_probability(face_card,cards)"
   ]
  },
  {
   "cell_type": "markdown",
   "metadata": {},
   "source": [
    "<b>Determine the probability of drawing the queen of hearts"
   ]
  },
  {
   "cell_type": "code",
   "execution_count": 7,
   "metadata": {},
   "outputs": [
    {
     "data": {
      "text/plain": [
       "1.92"
      ]
     },
     "execution_count": 7,
     "metadata": {},
     "output_type": "execute_result"
    }
   ],
   "source": [
    "#Event_Outcome\n",
    "ace_of_heart = 1\n",
    "event_probability(ace_of_heart,cards)"
   ]
  },
  {
   "cell_type": "markdown",
   "metadata": {},
   "source": [
    "<b>Conditional Probability"
   ]
  },
  {
   "cell_type": "code",
   "execution_count": 22,
   "metadata": {},
   "outputs": [
    {
     "name": "stdout",
     "output_type": "stream",
     "text": [
      "rating\n",
      "A    0.33\n",
      "B    0.50\n",
      "C    0.17\n",
      "Name: model, dtype: float64\n",
      "rating  type \n",
      "A       coupe    0.500000\n",
      "        sedan    0.500000\n",
      "B       coupe    0.333333\n",
      "        sedan    0.666667\n",
      "C       sedan    1.000000\n",
      "Name: model, dtype: float64\n"
     ]
    }
   ],
   "source": [
    "import pandas as pd\n",
    "\n",
    "df = pd.DataFrame({'company': ['ford', 'chevy', 'ford', 'ford', 'ford', 'toyota'],\n",
    "                     'model': ['mustang', 'camaro', 'fiesta', 'focus', 'taurus', 'camry'],\n",
    "                     'rating': ['A', 'B', 'C', 'A', 'B', 'B'],\n",
    "                     'type': ['coupe', 'coupe', 'sedan', 'sedan', 'sedan', 'sedan']})\n",
    "\n",
    "print(round(df.groupby('rating').count()['model'] / len(df),2))\n",
    "\n",
    "print((df.groupby(['rating', 'type']).count() / df.groupby('rating').count())['model'])"
   ]
  },
  {
   "cell_type": "markdown",
   "metadata": {},
   "source": [
    "<b>Find PDF[Probability distribution Function - density of a continuous random variable] and The cumulative distribution function (CDF) of a random variable is another method to describe the distribution of random variables. "
   ]
  },
  {
   "cell_type": "code",
   "execution_count": 30,
   "metadata": {},
   "outputs": [
    {
     "name": "stdout",
     "output_type": "stream",
     "text": [
      "0.032786643008494994\n",
      "0.43381616738909634\n",
      "0.5\n"
     ]
    }
   ],
   "source": [
    "import scipy.stats\n",
    "\n",
    "print(scipy.stats.norm(0, 1))\n",
    "\n",
    "print(scipy.stats.norm(0, 1).pdf(0))\n",
    "print(scipy.stats.norm(0, 1).cdf(0))\n",
    "print(scipy.stats.norm(100, 12))\n",
    "print(scipy.stats.norm(100, 12).pdf(98))\n",
    "print(scipy.stats.norm(100, 12).cdf(98))\n",
    "print(scipy.stats.norm(100, 12).cdf(100))"
   ]
  },
  {
   "cell_type": "code",
   "execution_count": 31,
   "metadata": {},
   "outputs": [],
   "source": [
    "import numpy as np\n",
    "import pandas as pd\n",
    "import matplotlib.pyplot as plt\n",
    "import scipy.stats  as stats\n",
    "from scipy.stats import norm"
   ]
  },
  {
   "cell_type": "markdown",
   "metadata": {},
   "source": [
    "<b>Normal Distribution"
   ]
  },
  {
   "cell_type": "code",
   "execution_count": 37,
   "metadata": {},
   "outputs": [
    {
     "data": {
      "image/png": "[encoded data removed]",
      "text/plain": [
       "<Figure size 432x288 with 1 Axes>"
      ]
     },
     "metadata": {},
     "output_type": "display_data"
    }
   ],
   "source": [
    "x= np.arange(-4,4,0.001)\n",
    "plt.plot(x,norm.pdf(x))\n",
    "\n",
    "plt.show()"
   ]
  },
  {
   "cell_type": "code",
   "execution_count": 39,
   "metadata": {},
   "outputs": [
    {
     "data": {
      "text/plain": [
       "[<matplotlib.lines.Line2D at 0x246b1bbceb8>]"
      ]
     },
     "execution_count": 39,
     "metadata": {},
     "output_type": "execute_result"
    },
    {
     "data": {
      "image/png": "[encoded data removed]",
      "text/plain": [
       "<Figure size 432x288 with 1 Axes>"
      ]
     },
     "metadata": {},
     "output_type": "display_data"
    }
   ],
   "source": [
    "x = np.random.randn(10000)\n",
    "\n",
    "nbins = 20\n",
    "\n",
    "n, bins = np.histogram(x, nbins)\n",
    "pdfx = np.zeros(n.size)\n",
    "pdfy = np.zeros(n.size)\n",
    "for k in range(n.size):\n",
    "    pdfx[k] = 0.5*(bins[k]+bins[k+1])\n",
    "    pdfy[k] = n[k]\n",
    "\n",
    "plt.plot(pdfx, pdfy)"
   ]
  },
  {
   "cell_type": "code",
   "execution_count": 35,
   "metadata": {},
   "outputs": [
    {
     "data": {
      "text/plain": [
       "<matplotlib.axes._subplots.AxesSubplot at 0x246b03759b0>"
      ]
     },
     "execution_count": 35,
     "metadata": {},
     "output_type": "execute_result"
    },
    {
     "data": {
      "image/png": "[encoded data removed]",
      "text/plain": [
       "<Figure size 648x648 with 1 Axes>"
      ]
     },
     "metadata": {},
     "output_type": "display_data"
    }
   ],
   "source": [
    "uniform_data = stats.uniform.rvs(size=100000,  # Generate 100000 numbers\n",
    "                                 loc = 0,      # From 0\n",
    "                                 scale=10)     # To 10\n",
    "\n",
    "pd.DataFrame(uniform_data).plot(kind=\"density\",  # Plot the distribution\n",
    "                               figsize=(9,9),\n",
    "                               xlim=(-1,11))"
   ]
  },
  {
   "cell_type": "markdown",
   "metadata": {},
   "source": [
    "<b>Bayes Theorem"
   ]
  },
  {
   "cell_type": "code",
   "execution_count": 40,
   "metadata": {},
   "outputs": [
    {
     "name": "stdout",
     "output_type": "stream",
     "text": [
      "Probability of being from FR: 0.2222222222222222\n",
      "Probability to be French Boy: 0.1111111111111111\n",
      "Probability of being a Boy given a person is from FR: 0.5\n",
      "Probability to be from France given person is Boy: 0.3333333333333333\n",
      "Probability economy is growing when stock is Up: 0.8421052631578948\n"
     ]
    }
   ],
   "source": [
    "def get_outcomes(sample_space, f_name='', e_name=''):\n",
    "    outcomes = 0\n",
    "    for e_k, e_v in sample_space.items():\n",
    "        if f_name=='' or f_name==e_k:\n",
    "            for se_k, se_v in e_v.items():\n",
    "                if e_name!='' and se_k == e_name:\n",
    "                    outcomes+=se_v\n",
    "                elif e_name=='':\n",
    "                    outcomes+=se_v\n",
    "    return outcomes\n",
    "\n",
    "def p(sample_space, f_name):\n",
    "    return get_outcomes(sample_space, f_name) / get_outcomes(sample_space, '', '')\n",
    "\n",
    "def p_inters(sample_space, f_name, e_name):\n",
    "    return get_outcomes(sample_space, f_name, e_name) / get_outcomes(sample_space, '', '')\n",
    "\n",
    "def p_conditional(sample_space, f_name, e_name):\n",
    "    return p_inters(sample_space, f_name, e_name) / p(sample_space, f_name)\n",
    "\n",
    "def bayes(sample_space, f, given_e):\n",
    "    sum = 0;\n",
    "    for e_k, e_v in sample_space.items():\n",
    "        sum+=p(sample_space, e_k) * p_conditional(sample_space, e_k, given_e)\n",
    "    return p(sample_space, f) * p_conditional(sample_space, f, given_e) / sum\n",
    "\n",
    "sample_space = {'UK':{'Boy':10, 'Girl':20},\n",
    "                'FR':{'Boy':10, 'Girl':10},\n",
    "                'CA':{'Boy':10, 'Girl':30}}\n",
    "\n",
    "print('Probability of being from FR:', p(sample_space, 'FR'))\n",
    "print('Probability to be French Boy:', p_inters(sample_space, 'FR', 'Boy'))\n",
    "print('Probability of being a Boy given a person is from FR:', p_conditional(sample_space, 'FR', 'Boy'))\n",
    "print('Probability to be from France given person is Boy:', bayes(sample_space, 'FR', 'Boy'))\n",
    "\n",
    "sample_space = {'Grow' :{'Up':160, 'Down':40},\n",
    "                'Slows':{'Up':30, 'Down':70}}\n",
    "\n",
    "print('Probability economy is growing when stock is Up:', bayes(sample_space, 'Grow', 'Up'))"
   ]
  },
  {
   "cell_type": "markdown",
   "metadata": {},
   "source": [
    "<b>Basic Statistic "
   ]
  },
  {
   "cell_type": "code",
   "execution_count": 43,
   "metadata": {},
   "outputs": [
    {
     "name": "stdout",
     "output_type": "stream",
     "text": [
      "18.3\n",
      "11\n",
      "13.5\n",
      "[10, 11, 11, 11, 12, 15, 23, 23, 33, 34]\n",
      "87.34444444444445\n",
      "9.345824973989426\n"
     ]
    }
   ],
   "source": [
    "import statistics\n",
    "\n",
    "agesData=[10,23,34,11,23,33,12,11,15,11]\n",
    "\n",
    "print(statistics.mean(agesData))\n",
    "print(statistics.mode(agesData))\n",
    "print(statistics.median(agesData))\n",
    "print(sorted(agesData))\n",
    "print(statistics.variance(agesData))\n",
    "print(statistics.stdev(agesData))"
   ]
  },
  {
   "cell_type": "markdown",
   "metadata": {},
   "source": [
    "<b>Use Case"
   ]
  },
  {
   "cell_type": "code",
   "execution_count": 41,
   "metadata": {},
   "outputs": [
    {
     "name": "stdout",
     "output_type": "stream",
     "text": [
      "Events are not disjoint\n",
      "Probability that a randomly drawn person has a university degree or \n",
      " agrees with the statement about duration time is  0.85\n",
      "Percent of the population do not have a university degree \n",
      " and disagree with the  statement about duration time of lectures is  0.15000000000000002\n"
     ]
    }
   ],
   "source": [
    "#total number of participants\n",
    "total=100000\n",
    "\n",
    "#Probability of students agree that the duration of\n",
    "# the courses conducted by Edureka is just right\n",
    "agree=0.80\n",
    "\n",
    "# probability of students having university degree\n",
    "university_degree=0.1\n",
    "\n",
    "#probability of students fit in both categories\n",
    "agree_with_degree=0.05\n",
    "\n",
    "#Part 1 solution\n",
    "if(agree_with_degree==0):\n",
    "    print(\"Both events are disjoint\")\n",
    "else:\n",
    "    print(\"Events are not disjoint\")\n",
    "\n",
    "\n",
    "#Part 3 solution\n",
    "\n",
    "#Probability that a randomly drawn person has a university degree\n",
    "# or agrees with the statement about duration time\n",
    "\n",
    "soln=agree+university_degree-agree_with_degree\n",
    "\n",
    "print(\"Probability that a randomly drawn person has a university degree or \"\n",
    "      \"\\n agrees with the statement about duration time is \",soln)\n",
    "\n",
    "#Part 4 solution\n",
    "\n",
    "#percent of the population do not have a university degree\n",
    "# and disagree with the  statement about duration time of lectures\n",
    "\n",
    "ans=1-soln\n",
    "print(\"Percent of the population do not have a university degree \"\n",
    "      \"\\n and disagree with the  statement about duration time of lectures is \",ans)"
   ]
  }
 ],
 "metadata": {
  "kernelspec": {
   "display_name": "Python 3",
   "language": "python",
   "name": "python3"
  },
  "language_info": {
   "codemirror_mode": {
    "name": "ipython",
    "version": 3
   },
   "file_extension": ".py",
   "mimetype": "text/x-python",
   "name": "python",
   "nbconvert_exporter": "python",
   "pygments_lexer": "ipython3",
   "version": "3.6.5"
  }
 },
 "nbformat": 4,
 "nbformat_minor": 2
}
