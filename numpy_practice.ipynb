{
 "cells": [
  {
   "cell_type": "code",
   "execution_count": 15,
   "metadata": {},
   "outputs": [
    {
     "name": "stdout",
     "output_type": "stream",
     "text": [
      "<class 'numpy.ndarray'>\n",
      "[1 2 3]\n"
     ]
    }
   ],
   "source": [
    "import numpy as np\n",
    "\n",
    "a = np.array([1,2,3])\n",
    "print(type(a))\n",
    "print (a) # It is ndarray thus ',' not present in between number"
   ]
  },
  {
   "cell_type": "markdown",
   "metadata": {},
   "source": [
    "CREATE DYNAMIC NUMPY ARRAY "
   ]
  },
  {
   "cell_type": "code",
   "execution_count": 20,
   "metadata": {},
   "outputs": [
    {
     "name": "stdout",
     "output_type": "stream",
     "text": [
      "[10 11 12 13 14 15 16 17 18 19]\n"
     ]
    }
   ],
   "source": [
    "a = np.arange(10,20) \n",
    "print(a)"
   ]
  },
  {
   "cell_type": "markdown",
   "metadata": {},
   "source": [
    "CREATE DYNAMIC NUMPY ARRAY WITH ZERO AND RESHAPE THE NUMPY ARRAY USING RESHAPE AND RAVEL [CONVERT ONE DIMENSION ARRAY]"
   ]
  },
  {
   "cell_type": "code",
   "execution_count": 42,
   "metadata": {},
   "outputs": [
    {
     "name": "stdout",
     "output_type": "stream",
     "text": [
      "[[0. 0. 0.]\n",
      " [0. 0. 0.]]\n",
      "[0. 0. 0. 0. 0. 0. 0. 0. 0.]\n",
      "Reshape b [[0. 0. 0.]\n",
      " [0. 0. 0.]\n",
      " [0. 0. 0.]]\n",
      "[0. 0. 0. 0. 0. 0. 0. 0. 0.]\n",
      "[0. 0. 0. 0. 0. 0.]\n",
      "[[1 2 3]\n",
      " [1 8 6]]\n",
      "[1 2 3 1 8 6]\n"
     ]
    }
   ],
   "source": [
    "a = np.zeros((2,3)) # (2,3) means two rows and three column\n",
    "print(a)\n",
    "b= np.zeros(9)\n",
    "print(b)\n",
    "c = b.reshape(3,3)\n",
    "print('Reshape b',c)# reshape the array\n",
    "d = c.reshape(9)\n",
    "print(d)\n",
    "e=a.ravel() \n",
    "print(e)\n",
    "#Example of ravel\n",
    "arr = np.array([[1,2,3],[1,8,6]])\n",
    "print(arr)\n",
    "print(arr.ravel())\n"
   ]
  },
  {
   "cell_type": "markdown",
   "metadata": {},
   "source": [
    "CREATE N NUMBER OF BIN BETWEEN TWO NUMBERS:- np.linspace(startnum,endnum,bin size) "
   ]
  },
  {
   "cell_type": "code",
   "execution_count": 26,
   "metadata": {},
   "outputs": [
    {
     "name": "stdout",
     "output_type": "stream",
     "text": [
      "[ 1.    5.75 10.5  15.25 20.  ]\n"
     ]
    }
   ],
   "source": [
    "print(np.linspace(1,20,5)) "
   ]
  },
  {
   "cell_type": "markdown",
   "metadata": {},
   "source": [
    "NUMPY DATATYPE"
   ]
  },
  {
   "cell_type": "code",
   "execution_count": 48,
   "metadata": {},
   "outputs": [
    {
     "name": "stdout",
     "output_type": "stream",
     "text": [
      "<class 'numpy.ndarray'>\n",
      "int32\n",
      "<U11\n",
      "int32\n",
      "<U11\n",
      "<U11\n"
     ]
    }
   ],
   "source": [
    "#dtype = int32\n",
    "b = np.array([[1,2,3],[5,6,7],[7,8,9]])\n",
    "print(type(b))\n",
    "print(b.dtype)\n",
    "\n",
    "#dtype = <U11 => All the elements got converted into a string.\n",
    "b= np.array([[1,2,3],[4,'tt',6]])\n",
    "print(b.dtype)\n",
    "\n",
    "#dtype = int32\n",
    "b= np.array([[1,2,3],[4,True,6]])\n",
    "print(b.dtype)\n",
    "\n",
    "#dtype = <U11 => All the elements got converted into a string.\n",
    "b= np.array([[1,2,3],[4,True,'tt']])\n",
    "print(b.dtype)\n",
    "\n",
    "#dtype = <U11 => All the elements got converted into a string.\n",
    "b= np.array([[1,'2','tt'],[4,True,'tt']])\n",
    "print(b.dtype)"
   ]
  },
  {
   "cell_type": "markdown",
   "metadata": {},
   "source": [
    "ADDITION,SUBTRACTION, MULTIPLICATION AND DIVITION if dtype is int32"
   ]
  },
  {
   "cell_type": "code",
   "execution_count": 61,
   "metadata": {},
   "outputs": [
    {
     "name": "stdout",
     "output_type": "stream",
     "text": [
      "Addition: [[ 9  3  4]\n",
      " [10 12 16]\n",
      " [ 8 10 11]]\n",
      "Subtraction: [[-7  1  2]\n",
      " [ 0  0 -2]\n",
      " [ 6  6  7]]\n",
      "Multiplication: [[ 8  2  3]\n",
      " [25 36 63]\n",
      " [ 7 16 18]]\n",
      "Divition: [[0.125      2.         3.        ]\n",
      " [1.         1.         0.77777778]\n",
      " [7.         4.         4.5       ]]\n"
     ]
    }
   ],
   "source": [
    "b = np.array([[1,2,3],[5,6,7],[7,8,9]])\n",
    "c = np.array([[8,1,1],[5,6,9],[1,2,2]])\n",
    "print('Addition:',b+c)\n",
    "print('Subtraction:',b-c)\n",
    "print('Multiplication:',b*c)\n",
    "print('Divition:',b/c)\n"
   ]
  },
  {
   "cell_type": "markdown",
   "metadata": {},
   "source": [
    "NUMPY SUBSETTING"
   ]
  },
  {
   "cell_type": "code",
   "execution_count": 78,
   "metadata": {},
   "outputs": [
    {
     "name": "stdout",
     "output_type": "stream",
     "text": [
      "[5 6 7]\n",
      "[7 8 9]\n",
      "[[7 8 9]\n",
      " [5 6 7]\n",
      " [1 2 3]]\n",
      "[5 6 7 7 8 9]\n",
      "[False False False  True  True]\n",
      "[4 5]\n",
      "[3 5]\n"
     ]
    }
   ],
   "source": [
    "b = np.array([[1,2,3],[5,6,7],[7,8,9]])\n",
    "print(b[1])\n",
    "print(b[-1])\n",
    "print(b[::-1]) # Reverse the array \n",
    "print(b[b>3]) # Outputs only those elements as another numpy array which are greater than 3 - [5 6 7 7 8 9]\n",
    "\n",
    "x = np.array([1,2,3,4,5])\n",
    "y = x>3\n",
    "z=[2,4]\n",
    "print(y) #[False False False  True  True]\n",
    "print(x[y]) # [4 5]\n",
    "print(x[z]) # z act as index value so the outcome [3 5] beacuse x[2] =3 and x[4] =5 i.e. start index with 0"
   ]
  },
  {
   "cell_type": "markdown",
   "metadata": {},
   "source": [
    "SLICING"
   ]
  },
  {
   "cell_type": "code",
   "execution_count": 86,
   "metadata": {},
   "outputs": [
    {
     "name": "stdout",
     "output_type": "stream",
     "text": [
      "[[[1 2 3]\n",
      "  [5 6 7]\n",
      "  [7 8 9]]\n",
      "\n",
      " [[5 6 3]\n",
      "  [5 6 7]\n",
      "  [2 3 9]]]\n",
      "13\n",
      "[1 2 3 5 6 7 7 8 9 5 6 3 5 6 7 2 3 9]\n",
      "slice(2, 5, 6)\n",
      "[3]\n"
     ]
    }
   ],
   "source": [
    "b = np.array([[[1,2,3],[5,6,7],[7,8,9]],\n",
    "             [[5,6,3],[5,6,7],[2,3,9]]])\n",
    "\n",
    "print(b)\n",
    "print(b[1,1,1]+7) # b[1,1,1] = 6 so 6+7 =13\n",
    "\n",
    "b = b.ravel()\n",
    "print(b)\n",
    "\n",
    "arr_slice = slice(2,5,6)\n",
    "print(arr_slice)\n",
    "\n",
    "print(b[arr_slice])"
   ]
  },
  {
   "cell_type": "code",
   "execution_count": 89,
   "metadata": {},
   "outputs": [
    {
     "name": "stdout",
     "output_type": "stream",
     "text": [
      "[[[1 2 3]\n",
      "  [4 5 6]\n",
      "  [7 8 9]]\n",
      "\n",
      " [[9 8 7]\n",
      "  [8 4 4]\n",
      "  [3 2 1]]\n",
      "\n",
      " [[7 8 9]\n",
      "  [1 4 3]\n",
      "  [4 5 6]]]\n",
      "11\n",
      "[1 2 3 4 5 6 7 8 9 9 8 7 8 4 4 3 2 1 7 8 9 1 4 3 4 5 6]\n",
      "arr_slice:- slice(10, 20, 3)\n",
      "c[arr_slice]:- [8 4 2 8]\n",
      "[3 2 1 7 8 9 1 4 3 4 5 6]\n"
     ]
    }
   ],
   "source": [
    "c= np.array([\n",
    "    [[1,2,3],[4,5,6],[7,8,9]],\n",
    "    [[9,8,7],[8,4,4],[3,2,1]],\n",
    "    [[7,8,9],[1,4,3],[4,5,6]]\n",
    "])\n",
    "\n",
    "print(c)\n",
    "d=c[1,1,1]\n",
    "print(d+7)\n",
    "\n",
    "c=c.ravel()\n",
    "print(c)\n",
    "arr_slice = slice(10,20,3)\n",
    "element = c[11]\n",
    "print('arr_slice:-',arr_slice)\n",
    "print('c[arr_slice]:-',c[arr_slice])\n",
    "print(c[15:])\n",
    "#print(c[0:1,0:1,0:1])"
   ]
  },
  {
   "cell_type": "markdown",
   "metadata": {},
   "source": [
    "CREATE EMPTY ARRAY AND USE OF ndim, size and shape"
   ]
  },
  {
   "cell_type": "code",
   "execution_count": 100,
   "metadata": {},
   "outputs": [
    {
     "name": "stdout",
     "output_type": "stream",
     "text": [
      "[[10 11]\n",
      " [12 13]\n",
      " [14 15]\n",
      " [16 17]\n",
      " [18 19]]\n",
      "(5, 2)\n",
      "2\n",
      "10\n"
     ]
    }
   ],
   "source": [
    "c = np.empty([5,2],dtype=int)\n",
    "print(c)\n",
    "print(c.shape)\n",
    "print(c.ndim)\n",
    "print(c.size)"
   ]
  },
  {
   "cell_type": "code",
   "execution_count": null,
   "metadata": {},
   "outputs": [],
   "source": []
  }
 ],
 "metadata": {
  "kernelspec": {
   "display_name": "Python 3",
   "language": "python",
   "name": "python3"
  },
  "language_info": {
   "codemirror_mode": {
    "name": "ipython",
    "version": 3
   },
   "file_extension": ".py",
   "mimetype": "text/x-python",
   "name": "python",
   "nbconvert_exporter": "python",
   "pygments_lexer": "ipython3",
   "version": "3.6.5"
  }
 },
 "nbformat": 4,
 "nbformat_minor": 2
}
