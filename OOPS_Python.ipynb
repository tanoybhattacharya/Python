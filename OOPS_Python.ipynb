{
 "cells": [
  {
   "cell_type": "markdown",
   "metadata": {},
   "source": [
    "A Robot moves in a Plane starting from the origin point (0,0). The robot can move toward UP, DOWN, LEFT, RIGHT."
   ]
  },
  {
   "cell_type": "code",
   "execution_count": 3,
   "metadata": {},
   "outputs": [
    {
     "name": "stdout",
     "output_type": "stream",
     "text": [
      ">UP 3\n",
      ">DOWN 5\n",
      ">RIGHT 2\n",
      ">LEFT 5\n",
      ">\n",
      "3\n"
     ]
    }
   ],
   "source": [
    "import math\n",
    "stpoint = {\"x\":0,\"y\":0}\n",
    "\n",
    "while True:\n",
    "    line = input(\">\")\n",
    "    if not line:\n",
    "        break\n",
    "\n",
    "    direction, step = line.split()\n",
    "    if direction == \"UP\":\n",
    "        stpoint[\"y\"]+=int(step)\n",
    "    if direction == \"DOWN\":\n",
    "        stpoint[\"y\"]-=int(step)\n",
    "    if direction == \"LEFT\":\n",
    "        stpoint[\"x\"]-=int(step)\n",
    "    if direction == \"RIGHT\":\n",
    "        stpoint[\"x\"]+=int(step)\n",
    "\n",
    "print (int(round((stpoint[\"x\"]**2+stpoint[\"y\"]**2))**0.5))"
   ]
  },
  {
   "cell_type": "markdown",
   "metadata": {},
   "source": [
    "Weather forecasting organization wants to show is it day or night. So, write a program for such organization to findwhether is it dark outside or not."
   ]
  },
  {
   "cell_type": "code",
   "execution_count": 9,
   "metadata": {},
   "outputs": [
    {
     "name": "stdout",
     "output_type": "stream",
     "text": [
      "Have a good evening and outside is night!\n",
      "\n"
     ]
    }
   ],
   "source": [
    "from datetime import datetime\n",
    "def daynight(hour):\n",
    "    s=\"\"\n",
    "    if hour >=5 and hour<=11:\n",
    "        s= \"morning and outside is day\"\n",
    "    elif hour >=12 and hour<=17:\n",
    "        s = \"afternoon and outside is day\"\n",
    "    elif hour >=18 and hour<=22:\n",
    "        s = \"evening and outside is night\"\n",
    "    else:\n",
    "        s=\"night and outside is night\"\n",
    "    return s\n",
    "\n",
    "\n",
    "h = datetime.now().hour\n",
    "print('Have a good {0}!\\n'.format(daynight(h)))"
   ]
  },
  {
   "cell_type": "markdown",
   "metadata": {},
   "source": [
    "Write a program to find distancebetween two locations when their latitude and longitudes are given."
   ]
  },
  {
   "cell_type": "code",
   "execution_count": 10,
   "metadata": {},
   "outputs": [
    {
     "name": "stdout",
     "output_type": "stream",
     "text": [
      "Result: 1857 KM\n"
     ]
    }
   ],
   "source": [
    "from math import sin, cos, sqrt, atan2, radians\n",
    "\n",
    "# approximate radius of earth in km\n",
    "R = 6373.0\n",
    "\n",
    "lat1 = radians(56.2296756)\n",
    "lon1 = radians(45.0122287)\n",
    "lat2 = radians(52.406374)\n",
    "lon2 = radians(16.9251681)\n",
    "\n",
    "dlon = lon2 - lon1\n",
    "dlat = lat2 - lat1\n",
    "\n",
    "a = sin(dlat / 2)**2 + cos(lat1) * cos(lat2) * sin(dlon / 2)**2\n",
    "c = 2 * atan2(sqrt(a), sqrt(1 - a))\n",
    "\n",
    "distance = R * c\n",
    "\n",
    "print(\"Result:\", round(distance) ,\"KM\")"
   ]
  },
  {
   "cell_type": "markdown",
   "metadata": {},
   "source": [
    "Design a software for bank system. There should be options like cash withdraw, cash credit and change password. According to user input, the software should provide required output."
   ]
  },
  {
   "cell_type": "code",
   "execution_count": 3,
   "metadata": {},
   "outputs": [
    {
     "name": "stdout",
     "output_type": "stream",
     "text": [
      "Open Your Bank Account!!\n",
      "\n",
      "Enter your full name:Tanoy B\n",
      "Please provide accout password:test\n",
      "Please enter opening balance:1200\n",
      "Account Opening Successfully!! Please Start the transaction!!\n",
      "1. Check Balance\n",
      "2. Deposit\n",
      "3.Cash Withdraw\n",
      "4. Change Password\n",
      "5. Close Account\n",
      "6.Exist\n",
      "Please Select an option as number:1\n",
      "Mr. Tanoy B, your account balance is:1200\n",
      "1. Check Balance\n",
      "2. Deposit\n",
      "3.Cash Withdraw\n",
      "4. Change Password\n",
      "5. Close Account\n",
      "6.Exist\n",
      "Please Select an option as number:2\n",
      "Amount:1000\n",
      "Account Balance: 2200\n",
      "1. Check Balance\n",
      "2. Deposit\n",
      "3.Cash Withdraw\n",
      "4. Change Password\n",
      "5. Close Account\n",
      "6.Exist\n",
      "Please Select an option as number:6\n",
      "Thanks For Using ATM!! Bye\n"
     ]
    }
   ],
   "source": [
    "class BankAccount:\n",
    "    def __init__(self,amt,name,pwd):\n",
    "        self.amount = amt\n",
    "        self.name = name\n",
    "        self.pwd = pwd\n",
    "        print(\"Account Opening Successfully!! Please Start the transaction!!\")\n",
    "    def Cash(self,x):\n",
    "        if x < self.amount:\n",
    "            self.amount-=x\n",
    "            print(\"Account Balance :\", self.amount)\n",
    "        else:\n",
    "            print(\"Insufficient Amount, Please deposite some money\")\n",
    "    def deposit(self,y):\n",
    "        self.amount+=y\n",
    "        print (\"Account Balance:\",self.amount)\n",
    "    def changepwd(self,nwpwd):\n",
    "        self.pwd= nwpwd\n",
    "        print(\"Password Change Successfully\\nNew password is:\",self.pwd)\n",
    "    def checkbalance(self):\n",
    "        print(\"Mr. {0}, your account balance is:{1}\".format(self.name,self.amount))\n",
    "    def __del__(self):\n",
    "        self.amount = 0\n",
    "        self.name = \"\"\n",
    "        self.pwd = \"\"\n",
    "        print(\"Account Closed!!\\n\")\n",
    "\n",
    "print(\"Open Your Bank Account!!\\n\")\n",
    "nm = input(\"Enter your full name:\")\n",
    "pw = input(\"Please provide accout password:\")\n",
    "ob = input(\"Please enter opening balance:\")\n",
    "\n",
    "bk = BankAccount(int(ob),nm,pw)\n",
    "\n",
    "while True:\n",
    "    print(\"1. Check Balance\\n2. Deposit\\n3.Cash Withdraw\\n4. Change Password\\n5. Close Account\\n6.Exist\")\n",
    "    p = input(\"Please Select an option as number:\")\n",
    "    n = int(p)\n",
    "    if n==1:\n",
    "        bk.checkbalance()\n",
    "    elif n==2:\n",
    "        x = input(\"Amount:\")\n",
    "        bk.deposit(int(x))\n",
    "    elif n==3:\n",
    "        x= input(\"Amount:\")\n",
    "        bk.Cash(int(x))\n",
    "    elif n==4:\n",
    "        x = input(\"New Password:\")\n",
    "        bk.changepwd(x)\n",
    "    elif n==5:\n",
    "        del bk\n",
    "        break\n",
    "    elif n==6:\n",
    "        print (\"Thanks For Using ATM!! Bye\")\n",
    "        break\n",
    "    "
   ]
  },
  {
   "cell_type": "markdown",
   "metadata": {},
   "source": [
    "Write a program which will find all such numbers which are divisible by 7 but are not a multiple of 5, between 2000 and 3200 (both included). The numbers obtained should be printed in a comma-separated sequence on a single line."
   ]
  },
  {
   "cell_type": "code",
   "execution_count": 5,
   "metadata": {},
   "outputs": [
    {
     "name": "stdout",
     "output_type": "stream",
     "text": [
      "[2002, 2009, 2016, 2023, 2037, 2044, 2051, 2058, 2072, 2079, 2086, 2093, 2107, 2114, 2121, 2128, 2142, 2149, 2156, 2163, 2177, 2184, 2191, 2198, 2212, 2219, 2226, 2233, 2247, 2254, 2261, 2268, 2282, 2289, 2296, 2303, 2317, 2324, 2331, 2338, 2352, 2359, 2366, 2373, 2387, 2394, 2401, 2408, 2422, 2429, 2436, 2443, 2457, 2464, 2471, 2478, 2492, 2499, 2506, 2513, 2527, 2534, 2541, 2548, 2562, 2569, 2576, 2583, 2597, 2604, 2611, 2618, 2632, 2639, 2646, 2653, 2667, 2674, 2681, 2688, 2702, 2709, 2716, 2723, 2737, 2744, 2751, 2758, 2772, 2779, 2786, 2793, 2807, 2814, 2821, 2828, 2842, 2849, 2856, 2863, 2877, 2884, 2891, 2898, 2912, 2919, 2926, 2933, 2947, 2954, 2961, 2968, 2982, 2989, 2996, 3003, 3017, 3024, 3031, 3038, 3052, 3059, 3066, 3073, 3087, 3094, 3101, 3108, 3122, 3129, 3136, 3143, 3157, 3164, 3171, 3178, 3192, 3199]\n"
     ]
    }
   ],
   "source": [
    "lst = [x for x in range(2000,3200) if x%7 == 0 and x%5!=0]\n",
    "print(lst)"
   ]
  },
  {
   "cell_type": "markdown",
   "metadata": {},
   "source": [
    "Write a program which can compute the factorial of a given numbers. Use recursion to find it."
   ]
  },
  {
   "cell_type": "code",
   "execution_count": 6,
   "metadata": {},
   "outputs": [
    {
     "name": "stdout",
     "output_type": "stream",
     "text": [
      "Enter a Number:4\n",
      "Factorial 4 is 24\n"
     ]
    }
   ],
   "source": [
    "def fact(n,res=1):\n",
    "    while True:\n",
    "        res = res*n\n",
    "        n-=1\n",
    "        if(n!=1):\n",
    "            fact(n)\n",
    "        else:\n",
    "            return res\n",
    "num =input(\"Enter a Number:\")\n",
    "print(\"Factorial {0} is {1}\".format(num,fact(n=int(num))))"
   ]
  },
  {
   "cell_type": "markdown",
   "metadata": {},
   "source": [
    "Write a program which takes 2 digits, X,Y as input and generates a 2-dimensional array. The element value in the i-th row and j-th column of the array should be i*j."
   ]
  },
  {
   "cell_type": "code",
   "execution_count": 7,
   "metadata": {},
   "outputs": [
    {
     "name": "stdout",
     "output_type": "stream",
     "text": [
      "Input number of rows: 3\n",
      "Input number of columns: 5\n",
      "[[0, 0, 0, 0, 0], [0, 0, 0, 0, 0], [0, 0, 0, 0, 0]]\n"
     ]
    }
   ],
   "source": [
    "row_num = int(input(\"Input number of rows: \"))\n",
    "col_num = int(input(\"Input number of columns: \"))\n",
    "multi_list = [[0 for col in range(col_num)] for row in range(row_num)]\n",
    "print(multi_list)"
   ]
  },
  {
   "cell_type": "markdown",
   "metadata": {},
   "source": [
    "ccepts a comma separated sequence of words as input and  sorting them alphabetically"
   ]
  },
  {
   "cell_type": "code",
   "execution_count": 8,
   "metadata": {},
   "outputs": [
    {
     "name": "stdout",
     "output_type": "stream",
     "text": [
      "Enter Words:test,asd,edd,skfs,ck\n",
      "['asd', 'ck', 'edd', 'skfs', 'test']\n"
     ]
    }
   ],
   "source": [
    "line = input('Enter Words:')\n",
    "print(sorted(line.split(',')))"
   ]
  },
  {
   "cell_type": "markdown",
   "metadata": {},
   "source": [
    "Write a program that accepts sequence of lines as input and prints the lines after making all characters in the sentence capitalized"
   ]
  },
  {
   "cell_type": "code",
   "execution_count": 9,
   "metadata": {},
   "outputs": [
    {
     "name": "stdout",
     "output_type": "stream",
     "text": [
      "Enter stringTewbf jskc\n",
      "TEWBF JSKC\n"
     ]
    }
   ],
   "source": [
    "line = input('Enter string')\n",
    "print(line.upper())"
   ]
  },
  {
   "cell_type": "markdown",
   "metadata": {},
   "source": [
    "Write  a  program  that  accepts  a  sentence  and  calculate  the  number  of  upper  case letters and lower case letters"
   ]
  },
  {
   "cell_type": "code",
   "execution_count": 10,
   "metadata": {},
   "outputs": [
    {
     "name": "stdout",
     "output_type": "stream",
     "text": [
      "Enter String:Tanoy Is Good BOY\n",
      "Original String :  Tanoy Is Good BOY\n",
      "No. of Upper case characters :  6\n",
      "No. of Lower case Characters :  8\n"
     ]
    }
   ],
   "source": [
    "def Letter_test(s):\n",
    "    d={\"UPPER_CASE\":0, \"LOWER_CASE\":0}\n",
    "    for c in s:\n",
    "        if c.isupper():\n",
    "           d[\"UPPER_CASE\"]+=1\n",
    "        elif c.islower():\n",
    "           d[\"LOWER_CASE\"]+=1\n",
    "        else:\n",
    "           pass\n",
    "    print (\"Original String : \", s)\n",
    "    print (\"No. of Upper case characters : \", d[\"UPPER_CASE\"])\n",
    "    print (\"No. of Lower case Characters : \", d[\"LOWER_CASE\"])\n",
    "\n",
    "Letter_test(input(\"Enter String:\"))"
   ]
  },
  {
   "cell_type": "markdown",
   "metadata": {},
   "source": [
    "Banking Marketing - Loan Approval Process"
   ]
  },
  {
   "cell_type": "code",
   "execution_count": 2,
   "metadata": {},
   "outputs": [
    {
     "name": "stdout",
     "output_type": "stream",
     "text": [
      "Enter a profession:test\n",
      "test is not entitle profession\n"
     ]
    }
   ],
   "source": [
    "import pandas as pd\n",
    "import numpy as np\n",
    "\n",
    "\n",
    "df = pd.read_csv('bank-data.csv')\n",
    "profs = list(df['job'].unique())\n",
    "\n",
    "prof = input(\"Enter a profession:\")\n",
    "if prof in profs:\n",
    "    print(\"{0} is entitle profession\".format(prof))\n",
    "else:\n",
    "    print(\"{0} is not entitle profession\".format(prof))"
   ]
  },
  {
   "cell_type": "code",
   "execution_count": null,
   "metadata": {},
   "outputs": [],
   "source": []
  },
  {
   "cell_type": "code",
   "execution_count": null,
   "metadata": {},
   "outputs": [],
   "source": []
  }
 ],
 "metadata": {
  "kernelspec": {
   "display_name": "Python 3",
   "language": "python",
   "name": "python3"
  },
  "language_info": {
   "codemirror_mode": {
    "name": "ipython",
    "version": 3
   },
   "file_extension": ".py",
   "mimetype": "text/x-python",
   "name": "python",
   "nbconvert_exporter": "python",
   "pygments_lexer": "ipython3",
   "version": "3.6.5"
  }
 },
 "nbformat": 4,
 "nbformat_minor": 2
}
