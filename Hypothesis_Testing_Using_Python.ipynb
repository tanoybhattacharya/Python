{
 "cells": [
  {
   "cell_type": "markdown",
   "metadata": {},
   "source": [
    "__Hypothesis Testing Overview__\n",
    "\n",
    "Let's say you know the mean and standard deviation of a population. How can you tell if a sample is from this population or some other population? Although we may never know with 100% certainty, we can look for statistically significant differences between the sample statistics and the population paramters. This is done by first stating what is refered to as a null hypothesis, which in this scenario would be that there is no difference between the sample mean and the population mean. Then we look for statistical evidence to accept or reject the null hypothesis. What if we don't know the population parameters? \n",
    "\n",
    "how to formulate a null hypothesis and alternative hypothesis for comparing a sample mean to a population mean.\n",
    "\n",
    "how to conduct a z-test using the z-statistic for the sample mean to gain statistical evidence to accept or reject the null hypothesis.\n",
    "\n",
    "how to one-sample, paired sample, and independent sample t-tests when the population standard deviation is unknown and must be estimated using the sample standard deviation."
   ]
  },
  {
   "cell_type": "markdown",
   "metadata": {},
   "source": [
    "The following cell will import the WineEnthusiast data set using pandas. The data is linked to above and is formated as a CSV (comma-separated-values) file. Such a file could be opend in Excel but here we simply load the file into a pandas data structure called a dataframe and print out the first couple rows of the dataframe."
   ]
  },
  {
   "cell_type": "code",
   "execution_count": 4,
   "metadata": {},
   "outputs": [],
   "source": [
    "import numpy as np\n",
    "import pandas as pd\n",
    "import matplotlib.pyplot as plt\n",
    "import seaborn as sns\n",
    "import scipy.stats as stats # some useful stuff\n",
    "wine_data = pd.read_csv('winemag-data-130k-v2.csv')"
   ]
  },
  {
   "cell_type": "markdown",
   "metadata": {},
   "source": [
    "__Is A Sample of Wine Scores From the Wine Enthusiast Population__\n",
    "\n",
    "Let's assume the WineEnthusiast __point__ scores are interval-scaled normally distributed data. Let's find the __population mean and population standard deviation__."
   ]
  },
  {
   "cell_type": "code",
   "execution_count": 8,
   "metadata": {},
   "outputs": [
    {
     "name": "stdout",
     "output_type": "stream",
     "text": [
      "mu:  88.45 , sigma: 3.04\n"
     ]
    }
   ],
   "source": [
    "points = wine_data['points']\n",
    "mu = points.mean() # Population Mean\n",
    "sigma = points.std(ddof=0) # Population Standard Diviation\n",
    "print(\"mu: \", round(mu,2), \", sigma:\", round(sigma,2))"
   ]
  },
  {
   "cell_type": "markdown",
   "metadata": {},
   "source": [
    "A sample of __N=10__ wine point scores yields a sample mean of __x_bar = 90.2__. Is this sample from the WineEnthusiast population? To test this question we will use what is refered to as a one-sample z-test. First we state the null hypothesis and alternative hypothesis like this;\n",
    "\n",
    "__H0:__ The sample is from the WineEnthusiast population, __x_bar = μ__\n",
    "\n",
    "__HA:__ The sample is not from the WineEnthusiast population, __x_bar != (not equal) μ__\n",
    "\n",
    "Then, we specify a significance (alpha) level. Usually, statistical significance is associated with an alpha level of __α = 0.05__. Next, we use a z table to look up the __critical z__ value that cooresponds to this α level.Here we are doing a two-tailed test because we don't care if the sample mean is greater than or less than the population mean. We just are testing to see if the two are equal or notl (see the alternative hypothesis above).Next we calculate the __z-statistic__ for the sample mean(__x_bar__) compared to the population mean(__mu__) dividing by the standard deviation of the sample mean, which is the __standard error σ/sqrt(N)__. \n",
    "\n",
    "__If this z-statistic is less than z-critical then we accept the null hypothesis, otherwise we reject the null and accept the alternative hypothesis.__\n",
    "\n",
    "Let's do it."
   ]
  },
  {
   "cell_type": "code",
   "execution_count": 10,
   "metadata": {},
   "outputs": [
    {
     "name": "stdout",
     "output_type": "stream",
     "text": [
      "1.82\n"
     ]
    }
   ],
   "source": [
    "z_critical = 1.96 # derived from z table alpha level of 0.05 and two-tailed test\n",
    "x_bar = 90.2 # Sample Mean\n",
    "N = 10 #Sample Size\n",
    "SE = sigma/np.sqrt(N) # Standard Error\n",
    "z_stat = (x_bar - mu)/SE # Z Statistic\n",
    "print(round(z_stat,2))"
   ]
  },
  {
   "cell_type": "markdown",
   "metadata": {},
   "source": [
    "__Since z_stat is less than z_critical we accept the null hypothesis and reject the althernative.__\n",
    "Statistically, we say the sample mean is no different than the population mean and thus the sample is drawn from the population.\n",
    "\n",
    "But what if the sample size was larger? Let's redo the calculation with __N=30.__"
   ]
  },
  {
   "cell_type": "code",
   "execution_count": 12,
   "metadata": {},
   "outputs": [
    {
     "name": "stdout",
     "output_type": "stream",
     "text": [
      "3.16\n"
     ]
    }
   ],
   "source": [
    "N = 30;\n",
    "SE = sigma/np.sqrt(N)\n",
    "z_stat = (x_bar - mu)/SE\n",
    "print(round(z_stat,2))"
   ]
  },
  {
   "cell_type": "markdown",
   "metadata": {},
   "source": [
    "__Now the z-statistic is greater than z-critical and we reject the null hypothesis.__\n",
    "\n",
    "Statistically speaking we say that this sample was drawn from some different population than the WineEnthusiast population. \n",
    "\n",
    "__Why the difference?__\n",
    "\n",
    "Mathematically, increasing the sample size decreases the standard error of the sample mean. This means the distribution of sample means becomes narrower as N gets larger and thus it is less likely to overlap with the population mean everything else being equal."
   ]
  },
  {
   "cell_type": "markdown",
   "metadata": {},
   "source": [
    "__T Test__\n",
    "\n",
    "Around 1900, a chemist and statistical wizard named William Sealy Gosset who went by the pen name Student worked for the Guiness Brewery in Ireland. in his mission to use science to make better beer, he noticed that in situations where the population __standard deviation is unknown (most situations)__, it can be estimated using the sample standard deviation (using the unbiased version normalized by N-1). But, if the __sample size is small (let's say less than 30 is small)__ the shape of the distribution of sample means has thicker tails than a normal distribution because there is more variability in the estimate of the standard deviation of the sample mean (the standard error), which itself depends on the sample size. Thus, the z-test is unreliable because z-values are determend using a normal distribuiton. Instead, we must draw our test statistic from a different distribution called the t-distribution. The shape of this distribution narrows and becomes more normal like and the sample size increases or degrees of freedom increases, where degrees of freedom is N-1. Thus, Student's t-test is conducted in a fashion similar to a z-test but the t-statistic is pulled from a different distribution and thus a different table. The t-statistic itself has a similar form to the z-statistic in that it is a ration of a deviation divided by a measure of variability. However, the exact for of the ratio for the t-statistic depends on the nature of the data being used. Next I'll show you how to apply Student's t-test to various experimental scenarios.\n",
    "\n",
    "\n",
    "__Framework for Statistical Hypothesis Testing with T-Tests__\n",
    "\n",
    "Do you have one sample that you want to compare to some spcified value? Do a __one-sample t-test.__ For example, let's say it is well known that acorns have an average mass of 10 g, and you want to test to see if them mass of acorns from a forest subjected to acid rain are signifcantly different.\n",
    "\n",
    "Do you have two independent samples that you want to compare to each other? Do an __independent samples t-test.__ For example, let's say you take samples of acorn from a forest upwind and downwind from a coal power plant and you want to test to see if the average mass of the acorns from the two samples is the same.\n",
    "\n",
    "Do you have two dependent samples taken from the same indidividuals or objects? Do a __paired samples t-test.__ For example, let's say you measure the average mass of acorns from 50 trees in a forest before and after the local power plant converted from coal to natural gas and want to see if there is a difference in the masses pre-conversion to post-conversion.\n"
   ]
  },
  {
   "cell_type": "code",
   "execution_count": 13,
   "metadata": {},
   "outputs": [
    {
     "data": {
      "text/plain": [
       "array([11.6, 10.1, 10.6, 10.1,  8.3,  9.7,  9.3,  7.6, 12.2,  8.7,  9.9,\n",
       "        8.2,  9.8, 10.9,  8.5,  9.7,  9.7, 11. ,  7.3,  8. , 10.3, 10.9,\n",
       "        8.5, 11.1, 11.1,  8.4,  7.2,  8.6,  7.6, 10.4])"
      ]
     },
     "execution_count": 13,
     "metadata": {},
     "output_type": "execute_result"
    }
   ],
   "source": [
    "x = np.random.normal(loc=9.2,scale=1.5,size=30).round(1)\n",
    "x"
   ]
  },
  {
   "cell_type": "markdown",
   "metadata": {},
   "source": [
    "__One-sample__ location test on whether the mean of a population is equal to a value specified in null hypothesis\n",
    "\n",
    "The mass of a sample of __N=20__ acorns from a forest subjected to acid rain from a coal power plant are m = 8.8, 6.6, 9.5, 11.2, 10.2, 7.4, 8.0, 9.6, 9.9, 9.0, 7.6, 7.4, 10.4, 11.1, 8.5, 10.0, 11.6, 10.7, 10.3, and 7.0 g. Is the average mass of this sample different from the average mass of all acorns of μ = 10.0 g?\n",
    "\n",
    "\n",
    "__H0: x̄ - μ = 0, that is there is no difference between my sample mean and the value of μ.__\n",
    "\n",
    "__Ha: x̄ - μ ≠ 0 (two-sided test)__\n",
    "\n",
    "__α = 0.05__\n",
    "\n",
    "__t-table__\n",
    "\n",
    "degrees of freedom: \n",
    "__df = N-1__\n",
    "\n",
    "__t-critical for specified alpha level: t* = 2.093__\n",
    "\n",
    "__t-statistic: t = (x̄ - μ)/(s/sqrt(N)) where s is the sample standard deviation.__"
   ]
  },
  {
   "cell_type": "code",
   "execution_count": 14,
   "metadata": {},
   "outputs": [
    {
     "name": "stdout",
     "output_type": "stream",
     "text": [
      "t-statistic:  -2.2491611580763977\n",
      "t =  -2.2491611580763973 , p =  0.03655562279112415\n"
     ]
    }
   ],
   "source": [
    "x = [8.8, 6.6, 9.5, 11.2, 10.2, 7.4, 8.0, 9.6, 9.9, 9.0,\n",
    "     7.6, 7.4, 10.4, 11.1, 8.5, 10.0, 11.6, 10.7, 10.3, 7.0]\n",
    "\n",
    "mu = 10 # Population Mean\n",
    "\n",
    "t_critical = 2.093 # As per T-Table for df=19 and 0.05 two tail test\n",
    "\n",
    "x_bar = np.array(x).mean() #Sample Mean\n",
    "\n",
    "s = np.array(x).std(ddof=1) # subtract 1 from N to get unbiased estimate of sample standard deviation\n",
    "\n",
    "N = len(x)\n",
    "\n",
    "SE = s/np.sqrt(N)\n",
    "\n",
    "t = (x_bar - mu)/SE\n",
    "\n",
    "print(\"t-statistic: \",t)\n",
    "\n",
    "# a one sample t-test that gives you the p-value too can be done with scipy as follows:\n",
    "t, p = stats.ttest_1samp(x, mu)\n",
    "print(\"t = \", t, \", p = \", p)"
   ]
  },
  {
   "cell_type": "markdown",
   "metadata": {},
   "source": [
    "__Note: that t is greater in magnitude that t* so there is a statistically significant difference at the α = 0.05 level between the sample mean and the stated population mean of 10 g. Reject Null Hypothesis.__\n",
    "\n",
    "Let's find the 95% confidence intervals for respective sample."
   ]
  },
  {
   "cell_type": "code",
   "execution_count": 15,
   "metadata": {},
   "outputs": [
    {
     "name": "stdout",
     "output_type": "stream",
     "text": [
      "x_bar = 9.24, 95% CI [8.53, 9.95]\n",
      "CI using scipy:  (8.532759313560822, 9.947240686439175)\n"
     ]
    }
   ],
   "source": [
    "# margin of error\n",
    "err = t_critical*SE\n",
    "x_low = x_bar - err\n",
    "x_high = x_bar + err\n",
    "print(\"x_bar = {}, 95% CI [{}, {}]\".format(x_bar.round(2), x_low.round(2), x_high.round(2)))\n",
    "\n",
    "# you can also get CIs by using the build int t-distribution function like this:\n",
    "print(\"CI using scipy: \",stats.t.interval(0.95, N-1, loc=x_bar, scale=SE))"
   ]
  },
  {
   "cell_type": "markdown",
   "metadata": {},
   "source": [
    "__Independent (unpaird) two-sample location test with a null hypothesis that the means of the two samples are equal (equal variance assued).__\n",
    "\n",
    "The mass of N1=20 acorns from oak trees up wind from a coal power plant and N2=30 acorns from oak trees down wind from the same coal power plant are mesured. Are the acorns from trees downwind less massive then the ones from up wind? \n",
    "\n",
    "This will require a one-tail (on the low/left side) test. The sample sizes are not equal but we will assume that the population variance of sample 1 and sample 2 are equal. If we don't make the assumption of equal variance then we do a Welch's t-test.\n",
    "\n",
    "__H0: x̄1 = x̄2, or x̄2 - x̄1 = 0, that is , there is no difference between the sample means__\n",
    "\n",
    "__HA: x̄2 < x̄1, or x̄2 - x̄1 < 0__\n",
    "\n",
    "__α = 0.05__\n",
    "t-table\n",
    "\n",
    "__degrees of freedom: df1= N1-1 = 19, df2= N2-1 = 29, df = df1 + df2 = N1 + N2 -2 = 48__\n",
    "\n",
    "__t-critical for specified alpha level: t* = -1.677 (one-tailed, left-side)__\n",
    "\n",
    "__t-statistic: t = (x̄2 - x̄1)/(sp sqrt(1/N1 + 1/N2)))__\n",
    "\n",
    "__pooled variance: sp = sqrt( ((d1) s12 + (d2) s22)) / df__ "
   ]
  },
  {
   "cell_type": "code",
   "execution_count": 16,
   "metadata": {},
   "outputs": [
    {
     "name": "stdout",
     "output_type": "stream",
     "text": [
      "t-statistic -3.5981947686898033\n",
      "t =  -3.5981947686898033 , p_twosided =  0.0007560337478801464 , p_onesided = 0.0003780168739400732\n"
     ]
    }
   ],
   "source": [
    "# sample up wind\n",
    "x1 = [10.8, 10.0, 8.2, 9.9, 11.6, 10.1, 11.3, 10.3, 10.7, 9.7, \n",
    "      7.8, 9.6, 9.7, 11.6, 10.3, 9.8, 12.3, 11.0, 10.4, 10.4]\n",
    "\n",
    "# sample down wind\n",
    "x2 = [7.8, 7.5, 9.5, 11.7, 8.1, 8.8, 8.8, 7.7, 9.7, 7.0, \n",
    "      9.0, 9.7, 11.3, 8.7, 8.8, 10.9, 10.3, 9.6, 8.4, 6.6,\n",
    "      7.2, 7.6, 11.5, 6.6, 8.6, 10.5, 8.4, 8.5, 10.2, 9.2]\n",
    "\n",
    "# equal sample size and assume equal population variance\n",
    "\n",
    "t_critical = 1.677\n",
    "\n",
    "N1 = len(x1)\n",
    "N2 = len(x2)\n",
    "\n",
    "d1 = N1-1 # Degree of Freedom  of sample 1\n",
    "d2 = N2-1 # Degree of Freedom  of sample 2\n",
    "\n",
    "df = d1+d2 #Degree of Freedom \n",
    "\n",
    "s1 = np.std(x1,ddof=1) # Standard Deviation of Sample 1\n",
    "s2 = np.std(x2,ddof=1) # Standard Deviation of Sample 2\n",
    "\n",
    "x1_bar = np.mean(x1) # Mean of Sample 1\n",
    "x2_bar = np.mean(x2) # Mean of Sample 2\n",
    "\n",
    "sp = np.sqrt((d1*s1**2 + d2*s2**2)/df) # Pooled Varience\n",
    "\n",
    "se = sp*np.sqrt(1/N1 + 1/N2) # Standard Error\n",
    "\n",
    "t = (x2_bar - x1_bar)/(se) # T-Staistic\n",
    "print(\"t-statistic\", t)\n",
    "\n",
    "# a two-sample independent t-test is done with scipy as follows\n",
    "# NOTE: the p-value given is two-sided so the one-sided p value would be p/2\n",
    "\n",
    "t, p_twosided = stats.ttest_ind(x2, x1, equal_var=True)\n",
    "\n",
    "print(\"t = \",t, \", p_twosided = \", p_twosided, \", p_onesided =\", p_twosided/2)"
   ]
  },
  {
   "cell_type": "markdown",
   "metadata": {},
   "source": [
    "__Since the t-statistic above is less than t-critical, the null is rejected and the alternative hypothesis is accepted.__\n",
    "\n",
    "Just because there is a statistically significant difference betwee the two samples doesn't necessaily mean the differene is meaningful. __Let's calculate the 95% confidence interval and a measure of effect size, Cohen's d..__\n",
    "\n",
    "__Cohen's d, d = (mean deviation) / (pooled standard deviation) = (x̄2 - x̄1) / sp__\n",
    "\n",
    "We can also calculate a correlation of __determination r2__ which represents the fraction of the variance in the data explained by the sample it belongs to.\n",
    "\n",
    "__Coefficient of determination, r2 = t2 / ( t2 + df )__"
   ]
  },
  {
   "cell_type": "code",
   "execution_count": 17,
   "metadata": {},
   "outputs": [
    {
     "name": "stdout",
     "output_type": "stream",
     "text": [
      "Confidence Interval:\n",
      "x2_bar - x1_bar =  -1.3350000000000026 , 95% CI  (-2.0809844644533113, -0.589015535546694)\n",
      "Cohen's Effect Size, d:\n",
      "d =  -1.0387093591498806\n",
      "r_squared =  0.21243054465702976\n",
      "r_squared =  0.2124305446570291\n"
     ]
    },
    {
     "data": {
      "image/png": "[encoded data removed]",
      "text/plain": [
       "<Figure size 432x288 with 1 Axes>"
      ]
     },
     "metadata": {},
     "output_type": "display_data"
    }
   ],
   "source": [
    "print(\"Confidence Interval:\")\n",
    "print(\"x2_bar - x1_bar = \", x2_bar - x1_bar, \", 95% CI \",stats.t.interval(0.95, df, loc=x2_bar-x1_bar, scale=se))\n",
    "print(\"Cohen's Effect Size, d:\")\n",
    "print(\"d = \", (x2_bar - x1_bar)/sp)\n",
    "\n",
    "rsq = t**2 / (t**2 + df)\n",
    "print(\"r_squared = \", rsq) # 34.5 % of the variation between samples can be explained by the switch to nat. gas\n",
    "\n",
    "# notice that the r_squared value above is equal to the r_squared value you would get from linear regression\n",
    "x = np.concatenate((np.ones(N1), np.ones(N2)*2))\n",
    "y = np.concatenate((x1,x2))\n",
    "\n",
    "slope, yint, r, p, sterr = stats.linregress(x, y)\n",
    "print(\"r_squared = \",r**2)\n",
    "\n",
    "plt.plot(x,y)\n",
    "plt.show()"
   ]
  },
  {
   "cell_type": "markdown",
   "metadata": {},
   "source": [
    "__Paired samples (dependent/repeated measures) t-test with a null hypothesis that the mean difference is a specified constant (usually zero).__\n",
    "\n",
    "The average mass of acorns from the same N=30 trees downwind of a power plant is measured before (x1) and after (x2) the power plant converts from burning coal to buring natural gas. Does the mass of the acorns increase after the conversion from coal to natural gas? This will require a one-tail (on the low/left side) test.\n",
    "\n",
    "__H0: x̄2 - x̄1 = 0, that is , there is no difference between the sample means__\n",
    "\n",
    "__HA: x̄2 - x̄1 > 0__\n",
    "\n",
    "α = 0.05\n",
    "\n",
    "t-table\n",
    "\n",
    "degrees of freedom: df = N-1 = 29\n",
    "\n",
    "__t-critical for specified alpha level: t* = 1.677 (one-tailed, right-side)__\n",
    "\n",
    "__t-statistic: t = (x̄diff - 0)/(sdiff / sqrt(N))__\n",
    "\n",
    "__standard deviation of difference: sd = sqrt(s12/N1 + s22/N2)__\n",
    "\n",
    "__mean difference: x̄diff = x̄2 - x̄1__"
   ]
  },
  {
   "cell_type": "code",
   "execution_count": 18,
   "metadata": {},
   "outputs": [
    {
     "name": "stdout",
     "output_type": "stream",
     "text": [
      "t =  3.9054390813265063\n",
      "t =  3.905439081326491 , p =  0.0002584344912342189\n",
      "d =  0.7130323606015934\n"
     ]
    }
   ],
   "source": [
    "# sample before conversion to nat. gas\n",
    "x1 = np.array([10.8, 6.4, 8.3, 7.6, 11.4, 9.9, 10.6, 8.7, 8.1, 10.9,\n",
    "      11.0, 11.8, 7.3, 9.6, 9.3, 9.9, 9.0, 9.5, 10.6, 10.3,\n",
    "      8.8, 12.3, 8.9, 10.5, 11.6, 7.6, 8.9, 10.4, 10.2, 8.8])\n",
    "# sample after conversion to nat. gas\n",
    "x2 = np.array([10.1, 6.9, 8.6, 8.8, 12.1, 11.3, 12.4, 9.3, 9.3, 10.8,\n",
    "      12.4, 11.5, 7.4, 10.0, 11.1, 10.6, 9.4, 9.5, 10.0, 10.0,\n",
    "      9.7, 13.5, 9.6, 11.6, 11.7, 7.9, 8.6, 10.8, 9.5, 9.6])\n",
    "N = len(x2)\n",
    "xbar_diff = np.mean(x2) - np.mean(x1) # could also do np.mean(x2 - x1))\n",
    "sdiff = np.std(x2-x1,ddof=1)\n",
    "t = xbar_diff / (sdiff/np.sqrt(N))\n",
    "print(\"t = \", t)\n",
    "\n",
    "t, p = stats.ttest_rel(x2, x1) # using scipy\n",
    "print(\"t = \", t, \", p = \", p/2) # divide by two because we are doing a one-tail test\n",
    "\n",
    "d = xbar_diff / sdiff\n",
    "print(\"d = \", d) # chohen's d"
   ]
  }
 ],
 "metadata": {
  "kernelspec": {
   "display_name": "Python 3",
   "language": "python",
   "name": "python3"
  },
  "language_info": {
   "codemirror_mode": {
    "name": "ipython",
    "version": 3
   },
   "file_extension": ".py",
   "mimetype": "text/x-python",
   "name": "python",
   "nbconvert_exporter": "python",
   "pygments_lexer": "ipython3",
   "version": "3.6.5"
  }
 },
 "nbformat": 4,
 "nbformat_minor": 2
}
