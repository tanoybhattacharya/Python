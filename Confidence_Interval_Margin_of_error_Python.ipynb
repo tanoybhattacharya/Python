{
 "cells": [
  {
   "cell_type": "markdown",
   "metadata": {},
   "source": [
    "<b>Confidence Interval and Mergin of Error"
   ]
  },
  {
   "cell_type": "code",
   "execution_count": 8,
   "metadata": {},
   "outputs": [
    {
     "name": "stdout",
     "output_type": "stream",
     "text": [
      "Population Mean: 43.002372\n",
      "Sample Mean: 43.012\n",
      "Diffenrence : -0.009627999999999304\n"
     ]
    }
   ],
   "source": [
    "import numpy as np\n",
    "import scipy.stats as stats\n",
    "import math\n",
    "np.random.seed(10)\n",
    "population_ages1 = stats.poisson.rvs(loc=18, mu=35, size=150000)\n",
    "population_ages2 = stats.poisson.rvs(loc=18, mu=10, size=100000)\n",
    "population_ages = np.concatenate((population_ages1, population_ages2))\n",
    "\n",
    "print('Population Mean:',population_ages.mean())\n",
    "\n",
    "sample_ages = np.random.choice(a= population_ages,size=500)\n",
    "print ('Sample Mean:', sample_ages.mean())\n",
    "\n",
    "print('Diffenrence :',population_ages.mean() - sample_ages.mean())"
   ]
  },
  {
   "cell_type": "code",
   "execution_count": 1,
   "metadata": {},
   "outputs": [
    {
     "name": "stdout",
     "output_type": "stream",
     "text": [
      "z-critical value:\n",
      "1.959963984540054\n",
      "Confidence interval:\n",
      "(42.39706406882683, 44.03693593117317)\n"
     ]
    }
   ],
   "source": [
    "np.random.seed(10)\n",
    "population_ages1 = stats.poisson.rvs(loc=18, mu=35, size=150000)\n",
    "population_ages2 = stats.poisson.rvs(loc=18, mu=10, size=100000)\n",
    "population_ages = np.concatenate((population_ages1, population_ages2))\n",
    "\n",
    "sample_size = 1000\n",
    "sample = np.random.choice(a= population_ages, size = sample_size)\n",
    "sample_mean = sample.mean()\n",
    "z_critical = stats.norm.ppf(q = 0.975)  # Get the z-critical value*\n",
    "print(\"z-critical value:\")              # Check the z-critical value\n",
    "print(z_critical)                        \n",
    "\n",
    "pop_stdev = population_ages.std()  # Get the population standard deviation\n",
    "margin_of_error = z_critical * (pop_stdev/math.sqrt(sample_size))\n",
    "confidence_interval = (sample_mean - margin_of_error,\n",
    "                       sample_mean + margin_of_error)  \n",
    "\n",
    "print(\"Confidence interval:\")\n",
    "print(confidence_interval)\n"
   ]
  },
  {
   "cell_type": "code",
   "execution_count": null,
   "metadata": {},
   "outputs": [],
   "source": []
  }
 ],
 "metadata": {
  "kernelspec": {
   "display_name": "Python 3",
   "language": "python",
   "name": "python3"
  },
  "language_info": {
   "codemirror_mode": {
    "name": "ipython",
    "version": 3
   },
   "file_extension": ".py",
   "mimetype": "text/x-python",
   "name": "python",
   "nbconvert_exporter": "python",
   "pygments_lexer": "ipython3",
   "version": "3.6.5"
  }
 },
 "nbformat": 4,
 "nbformat_minor": 1
}
